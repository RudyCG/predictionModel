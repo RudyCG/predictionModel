{
 "cells": [
  {
   "cell_type": "code",
   "execution_count": 505,
   "id": "4b5afa15",
   "metadata": {},
   "outputs": [],
   "source": [
    "import pandas as pd\n",
    "import numpy as np\n",
    "import seaborn as sns\n",
    "from scipy.integrate import odeint\n",
    "import matplotlib.pyplot as plt\n",
    "from sklearn.linear_model import LinearRegression\n",
    "from sklearn import datasets, linear_model\n",
    "from sklearn.metrics import mean_squared_error, r2_score\n",
    "import seaborn as seabornInstance \n",
    "from sklearn.model_selection import train_test_split \n",
    "from sklearn import metrics\n",
    "from matplotlib.pyplot import figure\n",
    "from statsmodels.formula.api import ols\n",
    "from scipy import stats\n",
    "import statsmodels.api as sm\n",
    "from tensorflow.keras.models import Sequential\n",
    "from tensorflow.keras.layers import Dense\n",
    "from tensorflow.keras.optimizers import RMSprop\n",
    "from tensorflow.keras.losses import MeanSquaredError\n",
    "from sklearn.datasets import make_classification\n",
    "from matplotlib import pyplot as plt\n",
    "from sklearn.linear_model import LogisticRegression\n",
    "from sklearn.model_selection import train_test_split\n",
    "from sklearn.metrics import confusion_matrix\n",
    "from sklearn.metrics import classification_report\n",
    "from sklearn.preprocessing import StandardScaler\n",
    "from scipy.special import expit\n",
    "%matplotlib inline"
   ]
  },
  {
   "cell_type": "code",
   "execution_count": 506,
   "id": "0d7dc51c",
   "metadata": {},
   "outputs": [
    {
     "data": {
      "text/html": [
       "<div>\n",
       "<style scoped>\n",
       "    .dataframe tbody tr th:only-of-type {\n",
       "        vertical-align: middle;\n",
       "    }\n",
       "\n",
       "    .dataframe tbody tr th {\n",
       "        vertical-align: top;\n",
       "    }\n",
       "\n",
       "    .dataframe thead th {\n",
       "        text-align: right;\n",
       "    }\n",
       "</style>\n",
       "<table border=\"1\" class=\"dataframe\">\n",
       "  <thead>\n",
       "    <tr style=\"text-align: right;\">\n",
       "      <th></th>\n",
       "      <th>Unnamed: 0</th>\n",
       "      <th>Name</th>\n",
       "      <th>Named by Shelter</th>\n",
       "      <th>Type</th>\n",
       "      <th>Breed</th>\n",
       "      <th>Color</th>\n",
       "      <th>Sex</th>\n",
       "      <th>Protected</th>\n",
       "      <th>Size</th>\n",
       "      <th>Date Of Birth</th>\n",
       "      <th>...</th>\n",
       "      <th>Outcome Subtype</th>\n",
       "      <th>Intake Condition</th>\n",
       "      <th>Outcome Condition</th>\n",
       "      <th>Intake Jurisdiction</th>\n",
       "      <th>Outcome Jurisdiction</th>\n",
       "      <th>Outcome Zip Code</th>\n",
       "      <th>Location</th>\n",
       "      <th>Count</th>\n",
       "      <th>Age</th>\n",
       "      <th>Before Covid</th>\n",
       "    </tr>\n",
       "  </thead>\n",
       "  <tbody>\n",
       "    <tr>\n",
       "      <th>0</th>\n",
       "      <td>0</td>\n",
       "      <td>REMY</td>\n",
       "      <td>False</td>\n",
       "      <td>DOG</td>\n",
       "      <td>BEAGLE</td>\n",
       "      <td>BLACK/WHITE</td>\n",
       "      <td>Female</td>\n",
       "      <td>False</td>\n",
       "      <td>MED</td>\n",
       "      <td>2014-04-11</td>\n",
       "      <td>...</td>\n",
       "      <td>OVER THE COUNTER_WEB</td>\n",
       "      <td>UNKNOWN</td>\n",
       "      <td>PENDING</td>\n",
       "      <td>SANTA ROSA</td>\n",
       "      <td>SANTA ROSA</td>\n",
       "      <td>95407.0</td>\n",
       "      <td>95407(38.403734, -122.736775)</td>\n",
       "      <td>1</td>\n",
       "      <td>8.0</td>\n",
       "      <td>True</td>\n",
       "    </tr>\n",
       "    <tr>\n",
       "      <th>1</th>\n",
       "      <td>1</td>\n",
       "      <td>RONDE</td>\n",
       "      <td>True</td>\n",
       "      <td>DOG</td>\n",
       "      <td>CHIHUAHUA SH</td>\n",
       "      <td>TAN</td>\n",
       "      <td>Male</td>\n",
       "      <td>True</td>\n",
       "      <td>SMALL</td>\n",
       "      <td>2020-07-24</td>\n",
       "      <td>...</td>\n",
       "      <td>SCAS WEB</td>\n",
       "      <td>HEALTHY</td>\n",
       "      <td>HEALTHY</td>\n",
       "      <td>SANTA ROSA</td>\n",
       "      <td>*PETALUMA</td>\n",
       "      <td>94954.0</td>\n",
       "      <td>94954(38.245316, -122.59871)</td>\n",
       "      <td>1</td>\n",
       "      <td>1.0</td>\n",
       "      <td>True</td>\n",
       "    </tr>\n",
       "    <tr>\n",
       "      <th>2</th>\n",
       "      <td>2</td>\n",
       "      <td>SNOOP</td>\n",
       "      <td>True</td>\n",
       "      <td>CAT</td>\n",
       "      <td>DOMESTIC SH</td>\n",
       "      <td>GRAY</td>\n",
       "      <td>Male</td>\n",
       "      <td>True</td>\n",
       "      <td>SMALL</td>\n",
       "      <td>2019-08-04</td>\n",
       "      <td>...</td>\n",
       "      <td>SCAS WEB</td>\n",
       "      <td>HEALTHY</td>\n",
       "      <td>HEALTHY</td>\n",
       "      <td>SANTA ROSA</td>\n",
       "      <td>SANTA ROSA</td>\n",
       "      <td>95405.0</td>\n",
       "      <td>95405(38.439152, -122.672541)</td>\n",
       "      <td>1</td>\n",
       "      <td>2.0</td>\n",
       "      <td>True</td>\n",
       "    </tr>\n",
       "    <tr>\n",
       "      <th>3</th>\n",
       "      <td>3</td>\n",
       "      <td>FIFI</td>\n",
       "      <td>False</td>\n",
       "      <td>CAT</td>\n",
       "      <td>SIAMESE</td>\n",
       "      <td>SEAL PT</td>\n",
       "      <td>Female</td>\n",
       "      <td>True</td>\n",
       "      <td>KITTN</td>\n",
       "      <td>2020-10-27</td>\n",
       "      <td>...</td>\n",
       "      <td>SCAS WEB</td>\n",
       "      <td>UNKNOWN</td>\n",
       "      <td>PENDING</td>\n",
       "      <td>SANTA ROSA</td>\n",
       "      <td>SANTA ROSA</td>\n",
       "      <td>95407.0</td>\n",
       "      <td>95407(38.403734, -122.736775)</td>\n",
       "      <td>1</td>\n",
       "      <td>1.0</td>\n",
       "      <td>True</td>\n",
       "    </tr>\n",
       "    <tr>\n",
       "      <th>4</th>\n",
       "      <td>4</td>\n",
       "      <td>MERLIN</td>\n",
       "      <td>True</td>\n",
       "      <td>CAT</td>\n",
       "      <td>DOMESTIC SH</td>\n",
       "      <td>BRN TABBY</td>\n",
       "      <td>Male</td>\n",
       "      <td>True</td>\n",
       "      <td>SMALL</td>\n",
       "      <td>2018-01-16</td>\n",
       "      <td>...</td>\n",
       "      <td>SCAS WEB</td>\n",
       "      <td>UNKNOWN</td>\n",
       "      <td>PENDING</td>\n",
       "      <td>SANTA ROSA</td>\n",
       "      <td>COUNTY</td>\n",
       "      <td>94952.0</td>\n",
       "      <td>94952(38.236012, -122.730241)</td>\n",
       "      <td>1</td>\n",
       "      <td>4.0</td>\n",
       "      <td>True</td>\n",
       "    </tr>\n",
       "    <tr>\n",
       "      <th>...</th>\n",
       "      <td>...</td>\n",
       "      <td>...</td>\n",
       "      <td>...</td>\n",
       "      <td>...</td>\n",
       "      <td>...</td>\n",
       "      <td>...</td>\n",
       "      <td>...</td>\n",
       "      <td>...</td>\n",
       "      <td>...</td>\n",
       "      <td>...</td>\n",
       "      <td>...</td>\n",
       "      <td>...</td>\n",
       "      <td>...</td>\n",
       "      <td>...</td>\n",
       "      <td>...</td>\n",
       "      <td>...</td>\n",
       "      <td>...</td>\n",
       "      <td>...</td>\n",
       "      <td>...</td>\n",
       "      <td>...</td>\n",
       "      <td>...</td>\n",
       "    </tr>\n",
       "    <tr>\n",
       "      <th>20171</th>\n",
       "      <td>21942</td>\n",
       "      <td>NaN</td>\n",
       "      <td>False</td>\n",
       "      <td>CAT</td>\n",
       "      <td>DOMESTIC SH</td>\n",
       "      <td>GRAY/WHITE</td>\n",
       "      <td>Female</td>\n",
       "      <td>False</td>\n",
       "      <td>SMALL</td>\n",
       "      <td>NaN</td>\n",
       "      <td>...</td>\n",
       "      <td>ILL SEVERE</td>\n",
       "      <td>UNKNOWN</td>\n",
       "      <td>UNTREATABLE</td>\n",
       "      <td>SANTA ROSA</td>\n",
       "      <td>NaN</td>\n",
       "      <td>NaN</td>\n",
       "      <td>NaN</td>\n",
       "      <td>1</td>\n",
       "      <td>3.0</td>\n",
       "      <td>False</td>\n",
       "    </tr>\n",
       "    <tr>\n",
       "      <th>20172</th>\n",
       "      <td>21943</td>\n",
       "      <td>NaN</td>\n",
       "      <td>False</td>\n",
       "      <td>CAT</td>\n",
       "      <td>DOMESTIC SH</td>\n",
       "      <td>GRAY</td>\n",
       "      <td>Unknown</td>\n",
       "      <td>False</td>\n",
       "      <td>KITTN</td>\n",
       "      <td>NaN</td>\n",
       "      <td>...</td>\n",
       "      <td>FORGOTTEN</td>\n",
       "      <td>UNKNOWN</td>\n",
       "      <td>HEALTHY</td>\n",
       "      <td>COUNTY</td>\n",
       "      <td>SANTA ROSA</td>\n",
       "      <td>95403.0</td>\n",
       "      <td>95403(38.486997, -122.749134)</td>\n",
       "      <td>1</td>\n",
       "      <td>5.0</td>\n",
       "      <td>False</td>\n",
       "    </tr>\n",
       "    <tr>\n",
       "      <th>20173</th>\n",
       "      <td>21944</td>\n",
       "      <td>NaN</td>\n",
       "      <td>False</td>\n",
       "      <td>DOG</td>\n",
       "      <td>CHIHUAHUA LH/MIX</td>\n",
       "      <td>BLACK/WHITE</td>\n",
       "      <td>Male</td>\n",
       "      <td>False</td>\n",
       "      <td>TOY</td>\n",
       "      <td>2017-02-03</td>\n",
       "      <td>...</td>\n",
       "      <td>RP SHELTER</td>\n",
       "      <td>HEALTHY</td>\n",
       "      <td>HEALTHY</td>\n",
       "      <td>COUNTY</td>\n",
       "      <td>*ROHNERT PARK</td>\n",
       "      <td>94928.0</td>\n",
       "      <td>94928(38.346718, -122.695947)</td>\n",
       "      <td>1</td>\n",
       "      <td>5.0</td>\n",
       "      <td>False</td>\n",
       "    </tr>\n",
       "    <tr>\n",
       "      <th>20174</th>\n",
       "      <td>21945</td>\n",
       "      <td>ANDY</td>\n",
       "      <td>False</td>\n",
       "      <td>DOG</td>\n",
       "      <td>CHIHUAHUA LH/MIX</td>\n",
       "      <td>BROWN/WHITE</td>\n",
       "      <td>Male</td>\n",
       "      <td>True</td>\n",
       "      <td>TOY</td>\n",
       "      <td>2015-04-24</td>\n",
       "      <td>...</td>\n",
       "      <td>INTERNET</td>\n",
       "      <td>TREATABLE/REHAB</td>\n",
       "      <td>TREATABLE/REHAB</td>\n",
       "      <td>SANTA ROSA</td>\n",
       "      <td>OUT OF COUNTY</td>\n",
       "      <td>94109.0</td>\n",
       "      <td>94109(37.792737, -122.420971)</td>\n",
       "      <td>1</td>\n",
       "      <td>7.0</td>\n",
       "      <td>False</td>\n",
       "    </tr>\n",
       "    <tr>\n",
       "      <th>20175</th>\n",
       "      <td>21946</td>\n",
       "      <td>NaN</td>\n",
       "      <td>False</td>\n",
       "      <td>CAT</td>\n",
       "      <td>DOMESTIC SH</td>\n",
       "      <td>CALICO</td>\n",
       "      <td>Female</td>\n",
       "      <td>False</td>\n",
       "      <td>KITTN</td>\n",
       "      <td>2015-05-14</td>\n",
       "      <td>...</td>\n",
       "      <td>DOA</td>\n",
       "      <td>HEALTHY</td>\n",
       "      <td>DEAD</td>\n",
       "      <td>SANTA ROSA</td>\n",
       "      <td>NaN</td>\n",
       "      <td>NaN</td>\n",
       "      <td>NaN</td>\n",
       "      <td>1</td>\n",
       "      <td>7.0</td>\n",
       "      <td>False</td>\n",
       "    </tr>\n",
       "  </tbody>\n",
       "</table>\n",
       "<p>20176 rows × 29 columns</p>\n",
       "</div>"
      ],
      "text/plain": [
       "       Unnamed: 0    Name  Named by Shelter Type             Breed  \\\n",
       "0               0    REMY             False  DOG            BEAGLE   \n",
       "1               1   RONDE              True  DOG      CHIHUAHUA SH   \n",
       "2               2   SNOOP              True  CAT       DOMESTIC SH   \n",
       "3               3    FIFI             False  CAT           SIAMESE   \n",
       "4               4  MERLIN              True  CAT       DOMESTIC SH   \n",
       "...           ...     ...               ...  ...               ...   \n",
       "20171       21942     NaN             False  CAT       DOMESTIC SH   \n",
       "20172       21943     NaN             False  CAT       DOMESTIC SH   \n",
       "20173       21944     NaN             False  DOG  CHIHUAHUA LH/MIX   \n",
       "20174       21945    ANDY             False  DOG  CHIHUAHUA LH/MIX   \n",
       "20175       21946     NaN             False  CAT       DOMESTIC SH   \n",
       "\n",
       "             Color      Sex  Protected   Size Date Of Birth  ...  \\\n",
       "0      BLACK/WHITE   Female      False    MED    2014-04-11  ...   \n",
       "1              TAN     Male       True  SMALL    2020-07-24  ...   \n",
       "2             GRAY     Male       True  SMALL    2019-08-04  ...   \n",
       "3          SEAL PT   Female       True  KITTN    2020-10-27  ...   \n",
       "4        BRN TABBY     Male       True  SMALL    2018-01-16  ...   \n",
       "...            ...      ...        ...    ...           ...  ...   \n",
       "20171   GRAY/WHITE   Female      False  SMALL           NaN  ...   \n",
       "20172         GRAY  Unknown      False  KITTN           NaN  ...   \n",
       "20173  BLACK/WHITE     Male      False    TOY    2017-02-03  ...   \n",
       "20174  BROWN/WHITE     Male       True    TOY    2015-04-24  ...   \n",
       "20175       CALICO   Female      False  KITTN    2015-05-14  ...   \n",
       "\n",
       "            Outcome Subtype Intake Condition Outcome Condition  \\\n",
       "0      OVER THE COUNTER_WEB          UNKNOWN           PENDING   \n",
       "1                  SCAS WEB          HEALTHY           HEALTHY   \n",
       "2                  SCAS WEB          HEALTHY           HEALTHY   \n",
       "3                  SCAS WEB          UNKNOWN           PENDING   \n",
       "4                  SCAS WEB          UNKNOWN           PENDING   \n",
       "...                     ...              ...               ...   \n",
       "20171            ILL SEVERE          UNKNOWN       UNTREATABLE   \n",
       "20172             FORGOTTEN          UNKNOWN           HEALTHY   \n",
       "20173            RP SHELTER          HEALTHY           HEALTHY   \n",
       "20174              INTERNET  TREATABLE/REHAB   TREATABLE/REHAB   \n",
       "20175                   DOA          HEALTHY              DEAD   \n",
       "\n",
       "      Intake Jurisdiction Outcome Jurisdiction  Outcome Zip Code  \\\n",
       "0              SANTA ROSA           SANTA ROSA           95407.0   \n",
       "1              SANTA ROSA            *PETALUMA           94954.0   \n",
       "2              SANTA ROSA           SANTA ROSA           95405.0   \n",
       "3              SANTA ROSA           SANTA ROSA           95407.0   \n",
       "4              SANTA ROSA               COUNTY           94952.0   \n",
       "...                   ...                  ...               ...   \n",
       "20171          SANTA ROSA                  NaN               NaN   \n",
       "20172              COUNTY           SANTA ROSA           95403.0   \n",
       "20173              COUNTY        *ROHNERT PARK           94928.0   \n",
       "20174          SANTA ROSA        OUT OF COUNTY           94109.0   \n",
       "20175          SANTA ROSA                  NaN               NaN   \n",
       "\n",
       "                            Location Count  Age Before Covid  \n",
       "0      95407(38.403734, -122.736775)     1  8.0         True  \n",
       "1       94954(38.245316, -122.59871)     1  1.0         True  \n",
       "2      95405(38.439152, -122.672541)     1  2.0         True  \n",
       "3      95407(38.403734, -122.736775)     1  1.0         True  \n",
       "4      94952(38.236012, -122.730241)     1  4.0         True  \n",
       "...                              ...   ...  ...          ...  \n",
       "20171                            NaN     1  3.0        False  \n",
       "20172  95403(38.486997, -122.749134)     1  5.0        False  \n",
       "20173  94928(38.346718, -122.695947)     1  5.0        False  \n",
       "20174  94109(37.792737, -122.420971)     1  7.0        False  \n",
       "20175                            NaN     1  7.0        False  \n",
       "\n",
       "[20176 rows x 29 columns]"
      ]
     },
     "execution_count": 506,
     "metadata": {},
     "output_type": "execute_result"
    }
   ],
   "source": [
    "df = pd.read_csv(\"shelter_cleaned.csv\") #Reading Dataset into notebook\n",
    "df"
   ]
  },
  {
   "cell_type": "code",
   "execution_count": 507,
   "id": "735322e4",
   "metadata": {},
   "outputs": [],
   "source": [
    "df[\"Date Of Birth\"] = pd.to_datetime(df[\"Date Of Birth\"])\n",
    "df[\"Intake Date\"] = pd.to_datetime(df[\"Intake Date\"])\n",
    "df[\"Outcome Date\"] = pd.to_datetime(df[\"Outcome Date\"])\n",
    "df[\"Intake Date\"].quantile(.87715)\n",
    "today = pd.to_datetime(\"now\")\n",
    "df[\"Age\"] = ((today - df[\"Date Of Birth\"]).dt.days  / 365)"
   ]
  },
  {
   "cell_type": "code",
   "execution_count": 508,
   "id": "cd336a82",
   "metadata": {},
   "outputs": [
    {
     "data": {
      "text/plain": [
       "0        7.624658\n",
       "1        1.334247\n",
       "2        2.306849\n",
       "3        1.073973\n",
       "4        3.854795\n",
       "           ...   \n",
       "20171         NaN\n",
       "20172         NaN\n",
       "20173    4.805479\n",
       "20174    6.589041\n",
       "20175    6.534247\n",
       "Name: Age, Length: 20176, dtype: float64"
      ]
     },
     "execution_count": 508,
     "metadata": {},
     "output_type": "execute_result"
    }
   ],
   "source": [
    "df[\"Age\"]"
   ]
  },
  {
   "cell_type": "code",
   "execution_count": 509,
   "id": "7d43d65e",
   "metadata": {},
   "outputs": [
    {
     "data": {
      "text/plain": [
       "Timestamp('2013-08-17 00:00:00')"
      ]
     },
     "execution_count": 509,
     "metadata": {},
     "output_type": "execute_result"
    }
   ],
   "source": [
    "df['Intake Date'].min()"
   ]
  },
  {
   "cell_type": "code",
   "execution_count": 510,
   "id": "ec923927",
   "metadata": {},
   "outputs": [
    {
     "data": {
      "text/plain": [
       "Timestamp('2021-10-18 00:00:00')"
      ]
     },
     "execution_count": 510,
     "metadata": {},
     "output_type": "execute_result"
    }
   ],
   "source": [
    "df['Intake Date'].max()"
   ]
  },
  {
   "cell_type": "code",
   "execution_count": 511,
   "id": "e81e5f15",
   "metadata": {},
   "outputs": [
    {
     "data": {
      "text/plain": [
       "RETURN TO OWNER    7240\n",
       "ADOPTION           6321\n",
       "TRANSFER           3511\n",
       "EUTHANIZE          2632\n",
       "DISPOSAL            146\n",
       "DIED                104\n",
       "APPT                 39\n",
       "RTOS                 31\n",
       "ESCAPED/STOLEN       12\n",
       "Name: Outcome Type, dtype: int64"
      ]
     },
     "execution_count": 511,
     "metadata": {},
     "output_type": "execute_result"
    }
   ],
   "source": [
    "df['Outcome Type'].value_counts()"
   ]
  },
  {
   "cell_type": "code",
   "execution_count": 512,
   "id": "a13fa1a1",
   "metadata": {},
   "outputs": [
    {
     "data": {
      "text/html": [
       "<div>\n",
       "<style scoped>\n",
       "    .dataframe tbody tr th:only-of-type {\n",
       "        vertical-align: middle;\n",
       "    }\n",
       "\n",
       "    .dataframe tbody tr th {\n",
       "        vertical-align: top;\n",
       "    }\n",
       "\n",
       "    .dataframe thead th {\n",
       "        text-align: right;\n",
       "    }\n",
       "</style>\n",
       "<table border=\"1\" class=\"dataframe\">\n",
       "  <thead>\n",
       "    <tr style=\"text-align: right;\">\n",
       "      <th></th>\n",
       "      <th>Age</th>\n",
       "      <th>Size</th>\n",
       "      <th>Days in Shelter</th>\n",
       "      <th>Outcome Type</th>\n",
       "    </tr>\n",
       "  </thead>\n",
       "  <tbody>\n",
       "    <tr>\n",
       "      <th>0</th>\n",
       "      <td>7.624658</td>\n",
       "      <td>24.0</td>\n",
       "      <td>3</td>\n",
       "      <td>RETURN TO OWNER</td>\n",
       "    </tr>\n",
       "    <tr>\n",
       "      <th>1</th>\n",
       "      <td>1.334247</td>\n",
       "      <td>12.0</td>\n",
       "      <td>49</td>\n",
       "      <td>ADOPTION</td>\n",
       "    </tr>\n",
       "    <tr>\n",
       "      <th>2</th>\n",
       "      <td>2.306849</td>\n",
       "      <td>12.0</td>\n",
       "      <td>38</td>\n",
       "      <td>ADOPTION</td>\n",
       "    </tr>\n",
       "    <tr>\n",
       "      <th>3</th>\n",
       "      <td>1.073973</td>\n",
       "      <td>3.0</td>\n",
       "      <td>6</td>\n",
       "      <td>ADOPTION</td>\n",
       "    </tr>\n",
       "    <tr>\n",
       "      <th>4</th>\n",
       "      <td>3.854795</td>\n",
       "      <td>12.0</td>\n",
       "      <td>20</td>\n",
       "      <td>ADOPTION</td>\n",
       "    </tr>\n",
       "    <tr>\n",
       "      <th>...</th>\n",
       "      <td>...</td>\n",
       "      <td>...</td>\n",
       "      <td>...</td>\n",
       "      <td>...</td>\n",
       "    </tr>\n",
       "    <tr>\n",
       "      <th>20171</th>\n",
       "      <td>NaN</td>\n",
       "      <td>12.0</td>\n",
       "      <td>0</td>\n",
       "      <td>EUTHANIZE</td>\n",
       "    </tr>\n",
       "    <tr>\n",
       "      <th>20172</th>\n",
       "      <td>NaN</td>\n",
       "      <td>3.0</td>\n",
       "      <td>0</td>\n",
       "      <td>TRANSFER</td>\n",
       "    </tr>\n",
       "    <tr>\n",
       "      <th>20173</th>\n",
       "      <td>4.805479</td>\n",
       "      <td>5.0</td>\n",
       "      <td>13</td>\n",
       "      <td>TRANSFER</td>\n",
       "    </tr>\n",
       "    <tr>\n",
       "      <th>20174</th>\n",
       "      <td>6.589041</td>\n",
       "      <td>5.0</td>\n",
       "      <td>16</td>\n",
       "      <td>ADOPTION</td>\n",
       "    </tr>\n",
       "    <tr>\n",
       "      <th>20175</th>\n",
       "      <td>6.534247</td>\n",
       "      <td>3.0</td>\n",
       "      <td>49</td>\n",
       "      <td>DISPOSAL</td>\n",
       "    </tr>\n",
       "  </tbody>\n",
       "</table>\n",
       "<p>20176 rows × 4 columns</p>\n",
       "</div>"
      ],
      "text/plain": [
       "            Age  Size  Days in Shelter     Outcome Type\n",
       "0      7.624658  24.0                3  RETURN TO OWNER\n",
       "1      1.334247  12.0               49         ADOPTION\n",
       "2      2.306849  12.0               38         ADOPTION\n",
       "3      1.073973   3.0                6         ADOPTION\n",
       "4      3.854795  12.0               20         ADOPTION\n",
       "...         ...   ...              ...              ...\n",
       "20171       NaN  12.0                0        EUTHANIZE\n",
       "20172       NaN   3.0                0         TRANSFER\n",
       "20173  4.805479   5.0               13         TRANSFER\n",
       "20174  6.589041   5.0               16         ADOPTION\n",
       "20175  6.534247   3.0               49         DISPOSAL\n",
       "\n",
       "[20176 rows x 4 columns]"
      ]
     },
     "execution_count": 512,
     "metadata": {},
     "output_type": "execute_result"
    }
   ],
   "source": [
    "df[\"Size\"].replace({\"SMALL\": 12, \"MED\": 24, \"LARGE\": 59, \"KITTN\": 3, \"TOY\": 5, \"PUPPY\": 4, \"X-LRG\": 100}, inplace=True) #https://dogsized.com/what-are-the-different-sizes-of-dogs/\n",
    "dfClean = df[[\"Age\",\"Size\",\"Days in Shelter\",\"Outcome Type\"]]\n",
    "dfClean"
   ]
  },
  {
   "cell_type": "code",
   "execution_count": 513,
   "id": "62f9113b",
   "metadata": {},
   "outputs": [],
   "source": [
    "dogs = pd.DataFrame(df[df['Type'].isin(['DOG'])]) #Creating Dataframe which only includes rows of dogs and not cats\n",
    "cats = pd.DataFrame(df[df['Type'].isin(['CAT'])]) #Creating Dataframe which only includes rows of cats and not dogs"
   ]
  },
  {
   "cell_type": "code",
   "execution_count": 514,
   "id": "2f8a41d8",
   "metadata": {},
   "outputs": [
    {
     "data": {
      "text/plain": [
       "Index(['Unnamed: 0', 'Name', 'Named by Shelter', 'Type', 'Breed', 'Color',\n",
       "       'Sex', 'Protected', 'Size', 'Date Of Birth', 'Impound Number',\n",
       "       'Kennel Number', 'Animal ID', 'Intake Date', 'Outcome Date',\n",
       "       'Days in Shelter', 'Intake Type', 'Intake Subtype', 'Outcome Type',\n",
       "       'Outcome Subtype', 'Intake Condition', 'Outcome Condition',\n",
       "       'Intake Jurisdiction', 'Outcome Jurisdiction', 'Outcome Zip Code',\n",
       "       'Location', 'Count', 'Age', 'Before Covid'],\n",
       "      dtype='object')"
      ]
     },
     "execution_count": 514,
     "metadata": {},
     "output_type": "execute_result"
    }
   ],
   "source": [
    "dogs.columns #current varibles considered in the DataFrame"
   ]
  },
  {
   "cell_type": "code",
   "execution_count": 515,
   "id": "97186f32",
   "metadata": {},
   "outputs": [
    {
     "data": {
      "text/plain": [
       "False    12255\n",
       "True        92\n",
       "Name: Outcome Type, dtype: int64"
      ]
     },
     "execution_count": 515,
     "metadata": {},
     "output_type": "execute_result"
    }
   ],
   "source": [
    "dogs[\"Outcome Type\"].isna().value_counts() #This means that some animals do not have an outcome yet (Could still be in shelter)"
   ]
  },
  {
   "cell_type": "code",
   "execution_count": 516,
   "id": "7abcb65a",
   "metadata": {},
   "outputs": [
    {
     "data": {
      "text/plain": [
       "Index(['Unnamed: 0', 'Name', 'Named by Shelter', 'Type', 'Breed', 'Color',\n",
       "       'Sex', 'Protected', 'Size', 'Date Of Birth', 'Impound Number',\n",
       "       'Kennel Number', 'Animal ID', 'Intake Date', 'Outcome Date',\n",
       "       'Days in Shelter', 'Intake Type', 'Intake Subtype', 'Outcome Type',\n",
       "       'Outcome Subtype', 'Intake Condition', 'Outcome Condition',\n",
       "       'Intake Jurisdiction', 'Outcome Jurisdiction', 'Outcome Zip Code',\n",
       "       'Location', 'Count', 'Age', 'Before Covid'],\n",
       "      dtype='object')"
      ]
     },
     "execution_count": 516,
     "metadata": {},
     "output_type": "execute_result"
    }
   ],
   "source": [
    "dogs.columns"
   ]
  },
  {
   "cell_type": "code",
   "execution_count": 517,
   "id": "57e7909d",
   "metadata": {},
   "outputs": [
    {
     "data": {
      "text/plain": [
       "RETURN TO OWNER    6172\n",
       "ADOPTION           2999\n",
       "TRANSFER           1685\n",
       "EUTHANIZE          1307\n",
       "RTOS                 26\n",
       "DIED                 26\n",
       "DISPOSAL             22\n",
       "APPT                 13\n",
       "ESCAPED/STOLEN        5\n",
       "Name: Outcome Type, dtype: int64"
      ]
     },
     "execution_count": 517,
     "metadata": {},
     "output_type": "execute_result"
    }
   ],
   "source": [
    "dogs['Outcome Type'].value_counts() #We will only consider animals that have already had an outcome"
   ]
  },
  {
   "cell_type": "code",
   "execution_count": 518,
   "id": "d538e27d",
   "metadata": {},
   "outputs": [],
   "source": [
    "dogsOut = pd.DataFrame(dogs[dogs['Outcome Type'].notna()]) #Creating Dataframe which only includes rows of dogs with an outcome\n",
    "#catsOut = pd.DataFrame(cats[cats['Outcome Type'].notna()]) #Creating Dataframe which only includes rows of cats with an outcome"
   ]
  },
  {
   "cell_type": "code",
   "execution_count": 519,
   "id": "13796cdc",
   "metadata": {},
   "outputs": [
    {
     "data": {
      "text/html": [
       "<div>\n",
       "<style scoped>\n",
       "    .dataframe tbody tr th:only-of-type {\n",
       "        vertical-align: middle;\n",
       "    }\n",
       "\n",
       "    .dataframe tbody tr th {\n",
       "        vertical-align: top;\n",
       "    }\n",
       "\n",
       "    .dataframe thead th {\n",
       "        text-align: right;\n",
       "    }\n",
       "</style>\n",
       "<table border=\"1\" class=\"dataframe\">\n",
       "  <thead>\n",
       "    <tr style=\"text-align: right;\">\n",
       "      <th></th>\n",
       "      <th>Unnamed: 0</th>\n",
       "      <th>Name</th>\n",
       "      <th>Named by Shelter</th>\n",
       "      <th>Type</th>\n",
       "      <th>Breed</th>\n",
       "      <th>Color</th>\n",
       "      <th>Sex</th>\n",
       "      <th>Protected</th>\n",
       "      <th>Size</th>\n",
       "      <th>Date Of Birth</th>\n",
       "      <th>...</th>\n",
       "      <th>Outcome Subtype</th>\n",
       "      <th>Intake Condition</th>\n",
       "      <th>Outcome Condition</th>\n",
       "      <th>Intake Jurisdiction</th>\n",
       "      <th>Outcome Jurisdiction</th>\n",
       "      <th>Outcome Zip Code</th>\n",
       "      <th>Location</th>\n",
       "      <th>Count</th>\n",
       "      <th>Age</th>\n",
       "      <th>Before Covid</th>\n",
       "    </tr>\n",
       "  </thead>\n",
       "  <tbody>\n",
       "    <tr>\n",
       "      <th>0</th>\n",
       "      <td>0</td>\n",
       "      <td>REMY</td>\n",
       "      <td>False</td>\n",
       "      <td>DOG</td>\n",
       "      <td>BEAGLE</td>\n",
       "      <td>BLACK/WHITE</td>\n",
       "      <td>Female</td>\n",
       "      <td>False</td>\n",
       "      <td>24.0</td>\n",
       "      <td>2014-04-11</td>\n",
       "      <td>...</td>\n",
       "      <td>OVER THE COUNTER_WEB</td>\n",
       "      <td>UNKNOWN</td>\n",
       "      <td>PENDING</td>\n",
       "      <td>SANTA ROSA</td>\n",
       "      <td>SANTA ROSA</td>\n",
       "      <td>95407.0</td>\n",
       "      <td>95407(38.403734, -122.736775)</td>\n",
       "      <td>1</td>\n",
       "      <td>7.624658</td>\n",
       "      <td>True</td>\n",
       "    </tr>\n",
       "    <tr>\n",
       "      <th>1</th>\n",
       "      <td>1</td>\n",
       "      <td>RONDE</td>\n",
       "      <td>True</td>\n",
       "      <td>DOG</td>\n",
       "      <td>CHIHUAHUA SH</td>\n",
       "      <td>TAN</td>\n",
       "      <td>Male</td>\n",
       "      <td>True</td>\n",
       "      <td>12.0</td>\n",
       "      <td>2020-07-24</td>\n",
       "      <td>...</td>\n",
       "      <td>SCAS WEB</td>\n",
       "      <td>HEALTHY</td>\n",
       "      <td>HEALTHY</td>\n",
       "      <td>SANTA ROSA</td>\n",
       "      <td>*PETALUMA</td>\n",
       "      <td>94954.0</td>\n",
       "      <td>94954(38.245316, -122.59871)</td>\n",
       "      <td>1</td>\n",
       "      <td>1.334247</td>\n",
       "      <td>True</td>\n",
       "    </tr>\n",
       "    <tr>\n",
       "      <th>7</th>\n",
       "      <td>7</td>\n",
       "      <td>RICKY</td>\n",
       "      <td>False</td>\n",
       "      <td>DOG</td>\n",
       "      <td>LABRADOR RETR/MIX</td>\n",
       "      <td>BLUE/WHITE</td>\n",
       "      <td>Male</td>\n",
       "      <td>True</td>\n",
       "      <td>24.0</td>\n",
       "      <td>2020-01-04</td>\n",
       "      <td>...</td>\n",
       "      <td>OVER THE COUNTER_ARREST</td>\n",
       "      <td>UNKNOWN</td>\n",
       "      <td>PENDING</td>\n",
       "      <td>SANTA ROSA</td>\n",
       "      <td>SANTA ROSA</td>\n",
       "      <td>95403.0</td>\n",
       "      <td>95403(38.486997, -122.749134)</td>\n",
       "      <td>1</td>\n",
       "      <td>1.887671</td>\n",
       "      <td>True</td>\n",
       "    </tr>\n",
       "    <tr>\n",
       "      <th>8</th>\n",
       "      <td>8</td>\n",
       "      <td>CALISTA</td>\n",
       "      <td>False</td>\n",
       "      <td>DOG</td>\n",
       "      <td>LABRADOR RETR</td>\n",
       "      <td>YELLOW</td>\n",
       "      <td>Female</td>\n",
       "      <td>False</td>\n",
       "      <td>24.0</td>\n",
       "      <td>2020-04-14</td>\n",
       "      <td>...</td>\n",
       "      <td>FLD_MCHIP</td>\n",
       "      <td>UNKNOWN</td>\n",
       "      <td>HEALTHY</td>\n",
       "      <td>SANTA ROSA</td>\n",
       "      <td>COUNTY</td>\n",
       "      <td>95403.0</td>\n",
       "      <td>95403(38.486997, -122.749134)</td>\n",
       "      <td>1</td>\n",
       "      <td>1.610959</td>\n",
       "      <td>True</td>\n",
       "    </tr>\n",
       "    <tr>\n",
       "      <th>9</th>\n",
       "      <td>9</td>\n",
       "      <td>COCO</td>\n",
       "      <td>False</td>\n",
       "      <td>DOG</td>\n",
       "      <td>GERM SHEPHERD/MIX</td>\n",
       "      <td>WHITE</td>\n",
       "      <td>Female</td>\n",
       "      <td>True</td>\n",
       "      <td>59.0</td>\n",
       "      <td>NaT</td>\n",
       "      <td>...</td>\n",
       "      <td>FLD_MCHIP</td>\n",
       "      <td>UNKNOWN</td>\n",
       "      <td>HEALTHY</td>\n",
       "      <td>SANTA ROSA</td>\n",
       "      <td>SANTA ROSA</td>\n",
       "      <td>95407.0</td>\n",
       "      <td>95407(38.403734, -122.736775)</td>\n",
       "      <td>1</td>\n",
       "      <td>NaN</td>\n",
       "      <td>True</td>\n",
       "    </tr>\n",
       "    <tr>\n",
       "      <th>...</th>\n",
       "      <td>...</td>\n",
       "      <td>...</td>\n",
       "      <td>...</td>\n",
       "      <td>...</td>\n",
       "      <td>...</td>\n",
       "      <td>...</td>\n",
       "      <td>...</td>\n",
       "      <td>...</td>\n",
       "      <td>...</td>\n",
       "      <td>...</td>\n",
       "      <td>...</td>\n",
       "      <td>...</td>\n",
       "      <td>...</td>\n",
       "      <td>...</td>\n",
       "      <td>...</td>\n",
       "      <td>...</td>\n",
       "      <td>...</td>\n",
       "      <td>...</td>\n",
       "      <td>...</td>\n",
       "      <td>...</td>\n",
       "      <td>...</td>\n",
       "    </tr>\n",
       "    <tr>\n",
       "      <th>20165</th>\n",
       "      <td>21936</td>\n",
       "      <td>BUZZ</td>\n",
       "      <td>False</td>\n",
       "      <td>DOG</td>\n",
       "      <td>PARSON RUSS TER/MIX</td>\n",
       "      <td>TAN/WHITE</td>\n",
       "      <td>Male</td>\n",
       "      <td>False</td>\n",
       "      <td>12.0</td>\n",
       "      <td>2012-11-07</td>\n",
       "      <td>...</td>\n",
       "      <td>OVER THE COUNTER_WEB</td>\n",
       "      <td>UNKNOWN</td>\n",
       "      <td>HEALTHY</td>\n",
       "      <td>COUNTY</td>\n",
       "      <td>COUNTY</td>\n",
       "      <td>95407.0</td>\n",
       "      <td>95407(38.403734, -122.736775)</td>\n",
       "      <td>1</td>\n",
       "      <td>9.049315</td>\n",
       "      <td>False</td>\n",
       "    </tr>\n",
       "    <tr>\n",
       "      <th>20167</th>\n",
       "      <td>21938</td>\n",
       "      <td>SAL</td>\n",
       "      <td>False</td>\n",
       "      <td>DOG</td>\n",
       "      <td>MASTIFF</td>\n",
       "      <td>FAWN</td>\n",
       "      <td>Male</td>\n",
       "      <td>False</td>\n",
       "      <td>59.0</td>\n",
       "      <td>NaT</td>\n",
       "      <td>...</td>\n",
       "      <td>OVER THE COUNTER_WEB</td>\n",
       "      <td>HEALTHY</td>\n",
       "      <td>HEALTHY</td>\n",
       "      <td>COUNTY</td>\n",
       "      <td>OUT OF COUNTY</td>\n",
       "      <td>89146.0</td>\n",
       "      <td>89146(36.142341, -115.225859)</td>\n",
       "      <td>1</td>\n",
       "      <td>NaN</td>\n",
       "      <td>False</td>\n",
       "    </tr>\n",
       "    <tr>\n",
       "      <th>20168</th>\n",
       "      <td>21939</td>\n",
       "      <td>MUTT MUTT</td>\n",
       "      <td>False</td>\n",
       "      <td>DOG</td>\n",
       "      <td>AM PIT BULL TER</td>\n",
       "      <td>WHITE/BLUE MERLE</td>\n",
       "      <td>Male</td>\n",
       "      <td>False</td>\n",
       "      <td>24.0</td>\n",
       "      <td>2014-12-29</td>\n",
       "      <td>...</td>\n",
       "      <td>OVER THE COUNTER_CALL</td>\n",
       "      <td>UNKNOWN</td>\n",
       "      <td>PENDING</td>\n",
       "      <td>COUNTY</td>\n",
       "      <td>SANTA ROSA</td>\n",
       "      <td>95407.0</td>\n",
       "      <td>95407(38.403734, -122.736775)</td>\n",
       "      <td>1</td>\n",
       "      <td>6.906849</td>\n",
       "      <td>True</td>\n",
       "    </tr>\n",
       "    <tr>\n",
       "      <th>20173</th>\n",
       "      <td>21944</td>\n",
       "      <td>NaN</td>\n",
       "      <td>False</td>\n",
       "      <td>DOG</td>\n",
       "      <td>CHIHUAHUA LH/MIX</td>\n",
       "      <td>BLACK/WHITE</td>\n",
       "      <td>Male</td>\n",
       "      <td>False</td>\n",
       "      <td>5.0</td>\n",
       "      <td>2017-02-03</td>\n",
       "      <td>...</td>\n",
       "      <td>RP SHELTER</td>\n",
       "      <td>HEALTHY</td>\n",
       "      <td>HEALTHY</td>\n",
       "      <td>COUNTY</td>\n",
       "      <td>*ROHNERT PARK</td>\n",
       "      <td>94928.0</td>\n",
       "      <td>94928(38.346718, -122.695947)</td>\n",
       "      <td>1</td>\n",
       "      <td>4.805479</td>\n",
       "      <td>False</td>\n",
       "    </tr>\n",
       "    <tr>\n",
       "      <th>20174</th>\n",
       "      <td>21945</td>\n",
       "      <td>ANDY</td>\n",
       "      <td>False</td>\n",
       "      <td>DOG</td>\n",
       "      <td>CHIHUAHUA LH/MIX</td>\n",
       "      <td>BROWN/WHITE</td>\n",
       "      <td>Male</td>\n",
       "      <td>True</td>\n",
       "      <td>5.0</td>\n",
       "      <td>2015-04-24</td>\n",
       "      <td>...</td>\n",
       "      <td>INTERNET</td>\n",
       "      <td>TREATABLE/REHAB</td>\n",
       "      <td>TREATABLE/REHAB</td>\n",
       "      <td>SANTA ROSA</td>\n",
       "      <td>OUT OF COUNTY</td>\n",
       "      <td>94109.0</td>\n",
       "      <td>94109(37.792737, -122.420971)</td>\n",
       "      <td>1</td>\n",
       "      <td>6.589041</td>\n",
       "      <td>False</td>\n",
       "    </tr>\n",
       "  </tbody>\n",
       "</table>\n",
       "<p>12255 rows × 29 columns</p>\n",
       "</div>"
      ],
      "text/plain": [
       "       Unnamed: 0       Name  Named by Shelter Type                Breed  \\\n",
       "0               0       REMY             False  DOG               BEAGLE   \n",
       "1               1      RONDE              True  DOG         CHIHUAHUA SH   \n",
       "7               7      RICKY             False  DOG    LABRADOR RETR/MIX   \n",
       "8               8    CALISTA             False  DOG        LABRADOR RETR   \n",
       "9               9       COCO             False  DOG    GERM SHEPHERD/MIX   \n",
       "...           ...        ...               ...  ...                  ...   \n",
       "20165       21936       BUZZ             False  DOG  PARSON RUSS TER/MIX   \n",
       "20167       21938        SAL             False  DOG              MASTIFF   \n",
       "20168       21939  MUTT MUTT             False  DOG      AM PIT BULL TER   \n",
       "20173       21944        NaN             False  DOG     CHIHUAHUA LH/MIX   \n",
       "20174       21945       ANDY             False  DOG     CHIHUAHUA LH/MIX   \n",
       "\n",
       "                  Color     Sex  Protected  Size Date Of Birth  ...  \\\n",
       "0           BLACK/WHITE  Female      False  24.0    2014-04-11  ...   \n",
       "1                   TAN    Male       True  12.0    2020-07-24  ...   \n",
       "7            BLUE/WHITE    Male       True  24.0    2020-01-04  ...   \n",
       "8                YELLOW  Female      False  24.0    2020-04-14  ...   \n",
       "9                 WHITE  Female       True  59.0           NaT  ...   \n",
       "...                 ...     ...        ...   ...           ...  ...   \n",
       "20165         TAN/WHITE    Male      False  12.0    2012-11-07  ...   \n",
       "20167              FAWN    Male      False  59.0           NaT  ...   \n",
       "20168  WHITE/BLUE MERLE    Male      False  24.0    2014-12-29  ...   \n",
       "20173       BLACK/WHITE    Male      False   5.0    2017-02-03  ...   \n",
       "20174       BROWN/WHITE    Male       True   5.0    2015-04-24  ...   \n",
       "\n",
       "               Outcome Subtype Intake Condition Outcome Condition  \\\n",
       "0         OVER THE COUNTER_WEB          UNKNOWN           PENDING   \n",
       "1                     SCAS WEB          HEALTHY           HEALTHY   \n",
       "7      OVER THE COUNTER_ARREST          UNKNOWN           PENDING   \n",
       "8                    FLD_MCHIP          UNKNOWN           HEALTHY   \n",
       "9                    FLD_MCHIP          UNKNOWN           HEALTHY   \n",
       "...                        ...              ...               ...   \n",
       "20165     OVER THE COUNTER_WEB          UNKNOWN           HEALTHY   \n",
       "20167     OVER THE COUNTER_WEB          HEALTHY           HEALTHY   \n",
       "20168    OVER THE COUNTER_CALL          UNKNOWN           PENDING   \n",
       "20173               RP SHELTER          HEALTHY           HEALTHY   \n",
       "20174                 INTERNET  TREATABLE/REHAB   TREATABLE/REHAB   \n",
       "\n",
       "      Intake Jurisdiction Outcome Jurisdiction  Outcome Zip Code  \\\n",
       "0              SANTA ROSA           SANTA ROSA           95407.0   \n",
       "1              SANTA ROSA            *PETALUMA           94954.0   \n",
       "7              SANTA ROSA           SANTA ROSA           95403.0   \n",
       "8              SANTA ROSA               COUNTY           95403.0   \n",
       "9              SANTA ROSA           SANTA ROSA           95407.0   \n",
       "...                   ...                  ...               ...   \n",
       "20165              COUNTY               COUNTY           95407.0   \n",
       "20167              COUNTY        OUT OF COUNTY           89146.0   \n",
       "20168              COUNTY           SANTA ROSA           95407.0   \n",
       "20173              COUNTY        *ROHNERT PARK           94928.0   \n",
       "20174          SANTA ROSA        OUT OF COUNTY           94109.0   \n",
       "\n",
       "                            Location Count       Age Before Covid  \n",
       "0      95407(38.403734, -122.736775)     1  7.624658         True  \n",
       "1       94954(38.245316, -122.59871)     1  1.334247         True  \n",
       "7      95403(38.486997, -122.749134)     1  1.887671         True  \n",
       "8      95403(38.486997, -122.749134)     1  1.610959         True  \n",
       "9      95407(38.403734, -122.736775)     1       NaN         True  \n",
       "...                              ...   ...       ...          ...  \n",
       "20165  95407(38.403734, -122.736775)     1  9.049315        False  \n",
       "20167  89146(36.142341, -115.225859)     1       NaN        False  \n",
       "20168  95407(38.403734, -122.736775)     1  6.906849         True  \n",
       "20173  94928(38.346718, -122.695947)     1  4.805479        False  \n",
       "20174  94109(37.792737, -122.420971)     1  6.589041        False  \n",
       "\n",
       "[12255 rows x 29 columns]"
      ]
     },
     "execution_count": 519,
     "metadata": {},
     "output_type": "execute_result"
    }
   ],
   "source": [
    "dogsOut"
   ]
  },
  {
   "cell_type": "code",
   "execution_count": 520,
   "id": "f339183e",
   "metadata": {},
   "outputs": [],
   "source": [
    "#dogs.drop(['Date Of Birth', 'Impound Number',\n",
    "\n",
    "#'Kennel Number', 'Animal ID', 'Intake Date', 'Outcome Date',], axis=1, inplace=False)"
   ]
  },
  {
   "cell_type": "code",
   "execution_count": 521,
   "id": "a4f5b429",
   "metadata": {},
   "outputs": [
    {
     "data": {
      "text/plain": [
       "HEALTHY                 7148\n",
       "UNKNOWN                 2858\n",
       "TREATABLE/MANAGEABLE     803\n",
       "UNTREATABLE              796\n",
       "TREATABLE/REHAB          650\n",
       "Name: Intake Condition, dtype: int64"
      ]
     },
     "execution_count": 521,
     "metadata": {},
     "output_type": "execute_result"
    }
   ],
   "source": [
    "dogsOut['Intake Condition'].value_counts()"
   ]
  },
  {
   "cell_type": "code",
   "execution_count": 522,
   "id": "0d5a6b34",
   "metadata": {},
   "outputs": [],
   "source": [
    "#catsOut['Breed'].value_counts()"
   ]
  },
  {
   "cell_type": "code",
   "execution_count": 523,
   "id": "afeb318d",
   "metadata": {},
   "outputs": [
    {
     "data": {
      "text/plain": [
       "PIT BULL                        1634\n",
       "CHIHUAHUA SH                    1044\n",
       "GERM SHEPHERD                    779\n",
       "PIT BULL/MIX                     718\n",
       "CHIHUAHUA SH/MIX                 495\n",
       "                                ... \n",
       "BEAGLE/BOXER                       1\n",
       "AUST SHEPHERD/POODLE TOY           1\n",
       "COLLIE ROUGH/GERM SHEPHERD         1\n",
       "GERM SHEPHERD/AMERICAN STAFF       1\n",
       "GERM SHEPHERD/STAFFORDSHIRE        1\n",
       "Name: Breed, Length: 800, dtype: int64"
      ]
     },
     "execution_count": 523,
     "metadata": {},
     "output_type": "execute_result"
    }
   ],
   "source": [
    "dogsOut['Breed'].value_counts()"
   ]
  },
  {
   "cell_type": "code",
   "execution_count": 524,
   "id": "f6d06ea1",
   "metadata": {},
   "outputs": [
    {
     "data": {
      "text/plain": [
       "STRAY              8896\n",
       "OWNER SURRENDER    1262\n",
       "CONFISCATE         1229\n",
       "QUARANTINE          336\n",
       "TRANSFER            259\n",
       "ADOPTION RETURN     247\n",
       "OS APPT              26\n",
       "Name: Intake Type, dtype: int64"
      ]
     },
     "execution_count": 524,
     "metadata": {},
     "output_type": "execute_result"
    }
   ],
   "source": [
    "dogsOut[\"Intake Type\"].value_counts()"
   ]
  },
  {
   "cell_type": "code",
   "execution_count": 525,
   "id": "2d5e1462",
   "metadata": {},
   "outputs": [
    {
     "data": {
      "text/plain": [
       "BLACK/WHITE          1302\n",
       "BLACK/TAN             963\n",
       "BLACK                 903\n",
       "WHITE                 825\n",
       "TAN                   787\n",
       "                     ... \n",
       "TRICOLOR/GRAY           1\n",
       "BLUE/BLUE               1\n",
       "BL BRINDLE/TAN          1\n",
       "GRAY/BR BRINDLE         1\n",
       "TRICOLOR/RED TICK       1\n",
       "Name: Color, Length: 196, dtype: int64"
      ]
     },
     "execution_count": 525,
     "metadata": {},
     "output_type": "execute_result"
    }
   ],
   "source": [
    "dogsOut['Color'].value_counts()"
   ]
  },
  {
   "cell_type": "code",
   "execution_count": 526,
   "id": "ced5f1b7",
   "metadata": {},
   "outputs": [],
   "source": [
    "petReturned = pd.DataFrame(df[df['Intake Type'].isin(['ADOPTION RETURN'])])"
   ]
  },
  {
   "cell_type": "code",
   "execution_count": 527,
   "id": "87c07362",
   "metadata": {},
   "outputs": [
    {
     "data": {
      "text/plain": [
       "DOG    252\n",
       "CAT    102\n",
       "Name: Type, dtype: int64"
      ]
     },
     "execution_count": 527,
     "metadata": {},
     "output_type": "execute_result"
    }
   ],
   "source": [
    "petReturned['Type'].value_counts()"
   ]
  },
  {
   "cell_type": "code",
   "execution_count": 528,
   "id": "418c46ba",
   "metadata": {},
   "outputs": [
    {
     "data": {
      "text/plain": [
       "BLACK/WHITE         28\n",
       "BLACK/TAN           22\n",
       "TAN                 18\n",
       "TAN/WHITE           16\n",
       "BLACK               15\n",
       "WHITE               15\n",
       "BROWN               15\n",
       "BROWN/WHITE         11\n",
       "BR BRINDLE/WHITE     9\n",
       "TRICOLOR             9\n",
       "BLACK/BROWN          9\n",
       "TAN/BLACK            7\n",
       "BROWN/BLACK          6\n",
       "BLUE/WHITE           6\n",
       "WHITE/BROWN          6\n",
       "WHITE/BLACK          5\n",
       "BLUE                 4\n",
       "BR BRINDLE           4\n",
       "FAWN                 4\n",
       "WHITE/TAN            4\n",
       "FAWN/WHITE           3\n",
       "GOLD                 3\n",
       "RED                  3\n",
       "GRAY                 3\n",
       "GRAY/WHITE           3\n",
       "RED/WHITE            3\n",
       "BLUE MERLE           2\n",
       "BLACK/GRAY           2\n",
       "CHOCOLATE            2\n",
       "BROWN/TAN            2\n",
       "CREAM                1\n",
       "CHOCOLATE/TAN        1\n",
       "BLUE/FAWN            1\n",
       "BL BRINDLE/WHITE     1\n",
       "BL BRINDLE           1\n",
       "WHITE/GRAY           1\n",
       "WHITE/RED            1\n",
       "TRICOLOR/WHITE       1\n",
       "BLACK/BLACK          1\n",
       "RED/TAN              1\n",
       "GRAY/TAN             1\n",
       "BLUE/TAN             1\n",
       "CHOCOLATE/WHITE      1\n",
       "Name: Color, dtype: int64"
      ]
     },
     "execution_count": 528,
     "metadata": {},
     "output_type": "execute_result"
    }
   ],
   "source": [
    "dogsReturned = pd.DataFrame(petReturned[petReturned['Type'].isin(['DOG'])])\n",
    "dogsReturned['Color'].value_counts()"
   ]
  },
  {
   "cell_type": "code",
   "execution_count": 529,
   "id": "ec01fcc4",
   "metadata": {},
   "outputs": [
    {
     "data": {
      "text/plain": [
       "BLACK                17\n",
       "BLACK/WHITE          15\n",
       "BRN TABBY            11\n",
       "GRAY/WHITE            8\n",
       "GRAY TABBY            6\n",
       "ORG TABBY             5\n",
       "CALICO                5\n",
       "WHITE/BLACK           4\n",
       "GRAY                  4\n",
       "BRN TABBY/WHITE       4\n",
       "LYNX PT               3\n",
       "WHITE/GRAY            2\n",
       "GRAY TABBY/WHITE      2\n",
       "BLK SMOKE             2\n",
       "ORANGE                2\n",
       "BLUE CREAM/TORTIE     1\n",
       "ORG TABBY/WHITE       1\n",
       "LILAC PT/WHITE        1\n",
       "BUFF                  1\n",
       "BLUE PT               1\n",
       "SEAL PT               1\n",
       "TORTIE                1\n",
       "CALICO/BRN TABBY      1\n",
       "BUFF/WHITE            1\n",
       "WHITE                 1\n",
       "WHITE/ORG TABBY       1\n",
       "BRN TABBY/BLACK       1\n",
       "Name: Color, dtype: int64"
      ]
     },
     "execution_count": 529,
     "metadata": {},
     "output_type": "execute_result"
    }
   ],
   "source": [
    "catsReturned = pd.DataFrame(petReturned[petReturned['Type'].isin(['CAT'])])\n",
    "catsReturned['Color'].value_counts()"
   ]
  },
  {
   "cell_type": "code",
   "execution_count": 530,
   "id": "997a5624",
   "metadata": {},
   "outputs": [
    {
     "data": {
      "text/plain": [
       "STRAY              14769\n",
       "OWNER SURRENDER     2700\n",
       "CONFISCATE          1424\n",
       "QUARANTINE           432\n",
       "TRANSFER             420\n",
       "OS APPT               77\n",
       "Name: Intake Type, dtype: int64"
      ]
     },
     "execution_count": 530,
     "metadata": {},
     "output_type": "execute_result"
    }
   ],
   "source": [
    "petNotReturned = pd.DataFrame(df[~df['Intake Type'].isin(['ADOPTION RETURN'])])\n",
    "petNotReturned[\"Intake Type\"].value_counts()"
   ]
  },
  {
   "cell_type": "code",
   "execution_count": 531,
   "id": "92eb784e",
   "metadata": {},
   "outputs": [
    {
     "data": {
      "text/plain": [
       "STRAY              5802\n",
       "OWNER SURRENDER    1434\n",
       "CONFISCATE          187\n",
       "TRANSFER            161\n",
       "QUARANTINE           93\n",
       "OS APPT              50\n",
       "Name: Intake Type, dtype: int64"
      ]
     },
     "execution_count": 531,
     "metadata": {},
     "output_type": "execute_result"
    }
   ],
   "source": [
    "catNotReturned = pd.DataFrame(petNotReturned[petNotReturned['Type'].isin(['CAT'])])\n",
    "catNotReturned[\"Intake Type\"].value_counts()"
   ]
  },
  {
   "cell_type": "code",
   "execution_count": 532,
   "id": "c6bae73c",
   "metadata": {},
   "outputs": [
    {
     "data": {
      "text/plain": [
       "STRAY              8967\n",
       "OWNER SURRENDER    1266\n",
       "CONFISCATE         1237\n",
       "QUARANTINE          339\n",
       "TRANSFER            259\n",
       "OS APPT              27\n",
       "Name: Intake Type, dtype: int64"
      ]
     },
     "execution_count": 532,
     "metadata": {},
     "output_type": "execute_result"
    }
   ],
   "source": [
    "dogNotReturned = pd.DataFrame(petNotReturned[petNotReturned['Type'].isin(['DOG'])])\n",
    "dogNotReturned[\"Intake Type\"].value_counts()"
   ]
  },
  {
   "cell_type": "code",
   "execution_count": 533,
   "id": "8d307461",
   "metadata": {},
   "outputs": [
    {
     "data": {
      "image/png": "[encoded data removed]",
      "text/plain": [
       "<Figure size 432x288 with 1 Axes>"
      ]
     },
     "metadata": {
      "needs_background": "light"
     },
     "output_type": "display_data"
    }
   ],
   "source": [
    "def model(y,t):\n",
    "    dydt = -y + 1.0\n",
    "    return dydt\n",
    "\n",
    "# initial condition\n",
    "y0 = 0\n",
    "\n",
    "# time points\n",
    "t = np.linspace(0,5)\n",
    "\n",
    "# solve ODE\n",
    "y = odeint(model,y0,t)\n",
    "\n",
    "# plot results\n",
    "plt.plot(t,y)\n",
    "plt.xlabel('time')\n",
    "plt.ylabel('y(t)')\n",
    "plt.show()"
   ]
  },
  {
   "cell_type": "code",
   "execution_count": 534,
   "id": "6a4d5e35",
   "metadata": {},
   "outputs": [],
   "source": [
    "dfNumbers = df['Outcome Type'].eq('ADOPTION').mul(1)"
   ]
  },
  {
   "cell_type": "code",
   "execution_count": 535,
   "id": "08f2266e",
   "metadata": {},
   "outputs": [
    {
     "data": {
      "text/plain": [
       "0         3\n",
       "1        49\n",
       "2        38\n",
       "3         6\n",
       "4        20\n",
       "         ..\n",
       "20171     0\n",
       "20172     0\n",
       "20173    13\n",
       "20174    16\n",
       "20175    49\n",
       "Name: Days in Shelter, Length: 20176, dtype: int64"
      ]
     },
     "execution_count": 535,
     "metadata": {},
     "output_type": "execute_result"
    }
   ],
   "source": [
    "dfNumbersAge = df['Age']\n",
    "dfNumbersAge\n",
    "\n",
    "dfNumbersDays = df['Days in Shelter']\n",
    "dfNumbersDays"
   ]
  },
  {
   "cell_type": "code",
   "execution_count": 536,
   "id": "674c3a27",
   "metadata": {
    "scrolled": true
   },
   "outputs": [
    {
     "ename": "LinAlgError",
     "evalue": "SVD did not converge in Linear Least Squares",
     "output_type": "error",
     "traceback": [
      "\u001b[1;31m---------------------------------------------------------------------------\u001b[0m",
      "\u001b[1;31mLinAlgError\u001b[0m                               Traceback (most recent call last)",
      "\u001b[1;32m<ipython-input-536-9d67a356dcaa>\u001b[0m in \u001b[0;36m<module>\u001b[1;34m\u001b[0m\n\u001b[0;32m      3\u001b[0m \u001b[1;33m\u001b[0m\u001b[0m\n\u001b[0;32m      4\u001b[0m \u001b[0mplt\u001b[0m\u001b[1;33m.\u001b[0m\u001b[0mplot\u001b[0m\u001b[1;33m(\u001b[0m\u001b[0mx\u001b[0m\u001b[1;33m,\u001b[0m \u001b[0my\u001b[0m\u001b[1;33m,\u001b[0m \u001b[1;34m'o'\u001b[0m\u001b[1;33m)\u001b[0m\u001b[1;33m\u001b[0m\u001b[1;33m\u001b[0m\u001b[0m\n\u001b[1;32m----> 5\u001b[1;33m \u001b[0mm\u001b[0m\u001b[1;33m,\u001b[0m \u001b[0mb\u001b[0m \u001b[1;33m=\u001b[0m \u001b[0mnp\u001b[0m\u001b[1;33m.\u001b[0m\u001b[0mpolyfit\u001b[0m\u001b[1;33m(\u001b[0m\u001b[0mx\u001b[0m\u001b[1;33m,\u001b[0m \u001b[0my\u001b[0m\u001b[1;33m,\u001b[0m \u001b[1;36m1\u001b[0m\u001b[1;33m)\u001b[0m\u001b[1;33m\u001b[0m\u001b[1;33m\u001b[0m\u001b[0m\n\u001b[0m\u001b[0;32m      6\u001b[0m \u001b[0mplt\u001b[0m\u001b[1;33m.\u001b[0m\u001b[0mplot\u001b[0m\u001b[1;33m(\u001b[0m\u001b[0mx\u001b[0m\u001b[1;33m,\u001b[0m \u001b[0mm\u001b[0m\u001b[1;33m*\u001b[0m\u001b[0mx\u001b[0m \u001b[1;33m+\u001b[0m \u001b[0mb\u001b[0m\u001b[1;33m)\u001b[0m\u001b[1;33m\u001b[0m\u001b[1;33m\u001b[0m\u001b[0m\n",
      "\u001b[1;32m<__array_function__ internals>\u001b[0m in \u001b[0;36mpolyfit\u001b[1;34m(*args, **kwargs)\u001b[0m\n",
      "\u001b[1;32m~\\anaconda3\\lib\\site-packages\\numpy\\lib\\polynomial.py\u001b[0m in \u001b[0;36mpolyfit\u001b[1;34m(x, y, deg, rcond, full, w, cov)\u001b[0m\n\u001b[0;32m    658\u001b[0m     \u001b[0mscale\u001b[0m \u001b[1;33m=\u001b[0m \u001b[0mNX\u001b[0m\u001b[1;33m.\u001b[0m\u001b[0msqrt\u001b[0m\u001b[1;33m(\u001b[0m\u001b[1;33m(\u001b[0m\u001b[0mlhs\u001b[0m\u001b[1;33m*\u001b[0m\u001b[0mlhs\u001b[0m\u001b[1;33m)\u001b[0m\u001b[1;33m.\u001b[0m\u001b[0msum\u001b[0m\u001b[1;33m(\u001b[0m\u001b[0maxis\u001b[0m\u001b[1;33m=\u001b[0m\u001b[1;36m0\u001b[0m\u001b[1;33m)\u001b[0m\u001b[1;33m)\u001b[0m\u001b[1;33m\u001b[0m\u001b[1;33m\u001b[0m\u001b[0m\n\u001b[0;32m    659\u001b[0m     \u001b[0mlhs\u001b[0m \u001b[1;33m/=\u001b[0m \u001b[0mscale\u001b[0m\u001b[1;33m\u001b[0m\u001b[1;33m\u001b[0m\u001b[0m\n\u001b[1;32m--> 660\u001b[1;33m     \u001b[0mc\u001b[0m\u001b[1;33m,\u001b[0m \u001b[0mresids\u001b[0m\u001b[1;33m,\u001b[0m \u001b[0mrank\u001b[0m\u001b[1;33m,\u001b[0m \u001b[0ms\u001b[0m \u001b[1;33m=\u001b[0m \u001b[0mlstsq\u001b[0m\u001b[1;33m(\u001b[0m\u001b[0mlhs\u001b[0m\u001b[1;33m,\u001b[0m \u001b[0mrhs\u001b[0m\u001b[1;33m,\u001b[0m \u001b[0mrcond\u001b[0m\u001b[1;33m)\u001b[0m\u001b[1;33m\u001b[0m\u001b[1;33m\u001b[0m\u001b[0m\n\u001b[0m\u001b[0;32m    661\u001b[0m     \u001b[0mc\u001b[0m \u001b[1;33m=\u001b[0m \u001b[1;33m(\u001b[0m\u001b[0mc\u001b[0m\u001b[1;33m.\u001b[0m\u001b[0mT\u001b[0m\u001b[1;33m/\u001b[0m\u001b[0mscale\u001b[0m\u001b[1;33m)\u001b[0m\u001b[1;33m.\u001b[0m\u001b[0mT\u001b[0m  \u001b[1;31m# broadcast scale coefficients\u001b[0m\u001b[1;33m\u001b[0m\u001b[1;33m\u001b[0m\u001b[0m\n\u001b[0;32m    662\u001b[0m \u001b[1;33m\u001b[0m\u001b[0m\n",
      "\u001b[1;32m<__array_function__ internals>\u001b[0m in \u001b[0;36mlstsq\u001b[1;34m(*args, **kwargs)\u001b[0m\n",
      "\u001b[1;32m~\\anaconda3\\lib\\site-packages\\numpy\\linalg\\linalg.py\u001b[0m in \u001b[0;36mlstsq\u001b[1;34m(a, b, rcond)\u001b[0m\n\u001b[0;32m   2303\u001b[0m         \u001b[1;31m# lapack can't handle n_rhs = 0 - so allocate the array one larger in that axis\u001b[0m\u001b[1;33m\u001b[0m\u001b[1;33m\u001b[0m\u001b[1;33m\u001b[0m\u001b[0m\n\u001b[0;32m   2304\u001b[0m         \u001b[0mb\u001b[0m \u001b[1;33m=\u001b[0m \u001b[0mzeros\u001b[0m\u001b[1;33m(\u001b[0m\u001b[0mb\u001b[0m\u001b[1;33m.\u001b[0m\u001b[0mshape\u001b[0m\u001b[1;33m[\u001b[0m\u001b[1;33m:\u001b[0m\u001b[1;33m-\u001b[0m\u001b[1;36m2\u001b[0m\u001b[1;33m]\u001b[0m \u001b[1;33m+\u001b[0m \u001b[1;33m(\u001b[0m\u001b[0mm\u001b[0m\u001b[1;33m,\u001b[0m \u001b[0mn_rhs\u001b[0m \u001b[1;33m+\u001b[0m \u001b[1;36m1\u001b[0m\u001b[1;33m)\u001b[0m\u001b[1;33m,\u001b[0m \u001b[0mdtype\u001b[0m\u001b[1;33m=\u001b[0m\u001b[0mb\u001b[0m\u001b[1;33m.\u001b[0m\u001b[0mdtype\u001b[0m\u001b[1;33m)\u001b[0m\u001b[1;33m\u001b[0m\u001b[1;33m\u001b[0m\u001b[0m\n\u001b[1;32m-> 2305\u001b[1;33m     \u001b[0mx\u001b[0m\u001b[1;33m,\u001b[0m \u001b[0mresids\u001b[0m\u001b[1;33m,\u001b[0m \u001b[0mrank\u001b[0m\u001b[1;33m,\u001b[0m \u001b[0ms\u001b[0m \u001b[1;33m=\u001b[0m \u001b[0mgufunc\u001b[0m\u001b[1;33m(\u001b[0m\u001b[0ma\u001b[0m\u001b[1;33m,\u001b[0m \u001b[0mb\u001b[0m\u001b[1;33m,\u001b[0m \u001b[0mrcond\u001b[0m\u001b[1;33m,\u001b[0m \u001b[0msignature\u001b[0m\u001b[1;33m=\u001b[0m\u001b[0msignature\u001b[0m\u001b[1;33m,\u001b[0m \u001b[0mextobj\u001b[0m\u001b[1;33m=\u001b[0m\u001b[0mextobj\u001b[0m\u001b[1;33m)\u001b[0m\u001b[1;33m\u001b[0m\u001b[1;33m\u001b[0m\u001b[0m\n\u001b[0m\u001b[0;32m   2306\u001b[0m     \u001b[1;32mif\u001b[0m \u001b[0mm\u001b[0m \u001b[1;33m==\u001b[0m \u001b[1;36m0\u001b[0m\u001b[1;33m:\u001b[0m\u001b[1;33m\u001b[0m\u001b[1;33m\u001b[0m\u001b[0m\n\u001b[0;32m   2307\u001b[0m         \u001b[0mx\u001b[0m\u001b[1;33m[\u001b[0m\u001b[1;33m...\u001b[0m\u001b[1;33m]\u001b[0m \u001b[1;33m=\u001b[0m \u001b[1;36m0\u001b[0m\u001b[1;33m\u001b[0m\u001b[1;33m\u001b[0m\u001b[0m\n",
      "\u001b[1;32m~\\anaconda3\\lib\\site-packages\\numpy\\linalg\\linalg.py\u001b[0m in \u001b[0;36m_raise_linalgerror_lstsq\u001b[1;34m(err, flag)\u001b[0m\n\u001b[0;32m     98\u001b[0m \u001b[1;33m\u001b[0m\u001b[0m\n\u001b[0;32m     99\u001b[0m \u001b[1;32mdef\u001b[0m \u001b[0m_raise_linalgerror_lstsq\u001b[0m\u001b[1;33m(\u001b[0m\u001b[0merr\u001b[0m\u001b[1;33m,\u001b[0m \u001b[0mflag\u001b[0m\u001b[1;33m)\u001b[0m\u001b[1;33m:\u001b[0m\u001b[1;33m\u001b[0m\u001b[1;33m\u001b[0m\u001b[0m\n\u001b[1;32m--> 100\u001b[1;33m     \u001b[1;32mraise\u001b[0m \u001b[0mLinAlgError\u001b[0m\u001b[1;33m(\u001b[0m\u001b[1;34m\"SVD did not converge in Linear Least Squares\"\u001b[0m\u001b[1;33m)\u001b[0m\u001b[1;33m\u001b[0m\u001b[1;33m\u001b[0m\u001b[0m\n\u001b[0m\u001b[0;32m    101\u001b[0m \u001b[1;33m\u001b[0m\u001b[0m\n\u001b[0;32m    102\u001b[0m \u001b[1;32mdef\u001b[0m \u001b[0mget_linalg_error_extobj\u001b[0m\u001b[1;33m(\u001b[0m\u001b[0mcallback\u001b[0m\u001b[1;33m)\u001b[0m\u001b[1;33m:\u001b[0m\u001b[1;33m\u001b[0m\u001b[1;33m\u001b[0m\u001b[0m\n",
      "\u001b[1;31mLinAlgError\u001b[0m: SVD did not converge in Linear Least Squares"
     ]
    },
    {
     "data": {
      "image/png": "[encoded data removed]",
      "text/plain": [
       "<Figure size 432x288 with 1 Axes>"
      ]
     },
     "metadata": {
      "needs_background": "light"
     },
     "output_type": "display_data"
    }
   ],
   "source": [
    "x = np.array(dfClean[\"Days in Shelter\"])\n",
    "y = np.array(dfClean[\"Age\"])\n",
    "\n",
    "plt.plot(x, y, 'o')\n",
    "m, b = np.polyfit(x, y, 1)\n",
    "plt.plot(x, m*x + b)"
   ]
  },
  {
   "cell_type": "code",
   "execution_count": 537,
   "id": "03306f12",
   "metadata": {},
   "outputs": [
    {
     "ename": "ValueError",
     "evalue": "Input contains NaN, infinity or a value too large for dtype('float64').",
     "output_type": "error",
     "traceback": [
      "\u001b[1;31m---------------------------------------------------------------------------\u001b[0m",
      "\u001b[1;31mValueError\u001b[0m                                Traceback (most recent call last)",
      "\u001b[1;32m<ipython-input-537-b36d7d035971>\u001b[0m in \u001b[0;36m<module>\u001b[1;34m\u001b[0m\n\u001b[0;32m      3\u001b[0m \u001b[1;33m\u001b[0m\u001b[0m\n\u001b[0;32m      4\u001b[0m \u001b[0mregr\u001b[0m \u001b[1;33m=\u001b[0m \u001b[0mlinear_model\u001b[0m\u001b[1;33m.\u001b[0m\u001b[0mLinearRegression\u001b[0m\u001b[1;33m(\u001b[0m\u001b[1;33m)\u001b[0m\u001b[1;33m\u001b[0m\u001b[1;33m\u001b[0m\u001b[0m\n\u001b[1;32m----> 5\u001b[1;33m \u001b[0mregr\u001b[0m\u001b[1;33m.\u001b[0m\u001b[0mfit\u001b[0m\u001b[1;33m(\u001b[0m\u001b[0mX\u001b[0m\u001b[1;33m,\u001b[0m \u001b[0my\u001b[0m\u001b[1;33m)\u001b[0m\u001b[1;33m\u001b[0m\u001b[1;33m\u001b[0m\u001b[0m\n\u001b[0m\u001b[0;32m      6\u001b[0m \u001b[0mprint\u001b[0m\u001b[1;33m(\u001b[0m\u001b[0mregr\u001b[0m\u001b[1;33m.\u001b[0m\u001b[0mcoef_\u001b[0m\u001b[1;33m)\u001b[0m\u001b[1;33m\u001b[0m\u001b[1;33m\u001b[0m\u001b[0m\n",
      "\u001b[1;32m~\\anaconda3\\lib\\site-packages\\sklearn\\linear_model\\_base.py\u001b[0m in \u001b[0;36mfit\u001b[1;34m(self, X, y, sample_weight)\u001b[0m\n\u001b[0;32m    516\u001b[0m         \u001b[0maccept_sparse\u001b[0m \u001b[1;33m=\u001b[0m \u001b[1;32mFalse\u001b[0m \u001b[1;32mif\u001b[0m \u001b[0mself\u001b[0m\u001b[1;33m.\u001b[0m\u001b[0mpositive\u001b[0m \u001b[1;32melse\u001b[0m \u001b[1;33m[\u001b[0m\u001b[1;34m'csr'\u001b[0m\u001b[1;33m,\u001b[0m \u001b[1;34m'csc'\u001b[0m\u001b[1;33m,\u001b[0m \u001b[1;34m'coo'\u001b[0m\u001b[1;33m]\u001b[0m\u001b[1;33m\u001b[0m\u001b[1;33m\u001b[0m\u001b[0m\n\u001b[0;32m    517\u001b[0m \u001b[1;33m\u001b[0m\u001b[0m\n\u001b[1;32m--> 518\u001b[1;33m         X, y = self._validate_data(X, y, accept_sparse=accept_sparse,\n\u001b[0m\u001b[0;32m    519\u001b[0m                                    y_numeric=True, multi_output=True)\n\u001b[0;32m    520\u001b[0m \u001b[1;33m\u001b[0m\u001b[0m\n",
      "\u001b[1;32m~\\anaconda3\\lib\\site-packages\\sklearn\\base.py\u001b[0m in \u001b[0;36m_validate_data\u001b[1;34m(self, X, y, reset, validate_separately, **check_params)\u001b[0m\n\u001b[0;32m    431\u001b[0m                 \u001b[0my\u001b[0m \u001b[1;33m=\u001b[0m \u001b[0mcheck_array\u001b[0m\u001b[1;33m(\u001b[0m\u001b[0my\u001b[0m\u001b[1;33m,\u001b[0m \u001b[1;33m**\u001b[0m\u001b[0mcheck_y_params\u001b[0m\u001b[1;33m)\u001b[0m\u001b[1;33m\u001b[0m\u001b[1;33m\u001b[0m\u001b[0m\n\u001b[0;32m    432\u001b[0m             \u001b[1;32melse\u001b[0m\u001b[1;33m:\u001b[0m\u001b[1;33m\u001b[0m\u001b[1;33m\u001b[0m\u001b[0m\n\u001b[1;32m--> 433\u001b[1;33m                 \u001b[0mX\u001b[0m\u001b[1;33m,\u001b[0m \u001b[0my\u001b[0m \u001b[1;33m=\u001b[0m \u001b[0mcheck_X_y\u001b[0m\u001b[1;33m(\u001b[0m\u001b[0mX\u001b[0m\u001b[1;33m,\u001b[0m \u001b[0my\u001b[0m\u001b[1;33m,\u001b[0m \u001b[1;33m**\u001b[0m\u001b[0mcheck_params\u001b[0m\u001b[1;33m)\u001b[0m\u001b[1;33m\u001b[0m\u001b[1;33m\u001b[0m\u001b[0m\n\u001b[0m\u001b[0;32m    434\u001b[0m             \u001b[0mout\u001b[0m \u001b[1;33m=\u001b[0m \u001b[0mX\u001b[0m\u001b[1;33m,\u001b[0m \u001b[0my\u001b[0m\u001b[1;33m\u001b[0m\u001b[1;33m\u001b[0m\u001b[0m\n\u001b[0;32m    435\u001b[0m \u001b[1;33m\u001b[0m\u001b[0m\n",
      "\u001b[1;32m~\\anaconda3\\lib\\site-packages\\sklearn\\utils\\validation.py\u001b[0m in \u001b[0;36minner_f\u001b[1;34m(*args, **kwargs)\u001b[0m\n\u001b[0;32m     61\u001b[0m             \u001b[0mextra_args\u001b[0m \u001b[1;33m=\u001b[0m \u001b[0mlen\u001b[0m\u001b[1;33m(\u001b[0m\u001b[0margs\u001b[0m\u001b[1;33m)\u001b[0m \u001b[1;33m-\u001b[0m \u001b[0mlen\u001b[0m\u001b[1;33m(\u001b[0m\u001b[0mall_args\u001b[0m\u001b[1;33m)\u001b[0m\u001b[1;33m\u001b[0m\u001b[1;33m\u001b[0m\u001b[0m\n\u001b[0;32m     62\u001b[0m             \u001b[1;32mif\u001b[0m \u001b[0mextra_args\u001b[0m \u001b[1;33m<=\u001b[0m \u001b[1;36m0\u001b[0m\u001b[1;33m:\u001b[0m\u001b[1;33m\u001b[0m\u001b[1;33m\u001b[0m\u001b[0m\n\u001b[1;32m---> 63\u001b[1;33m                 \u001b[1;32mreturn\u001b[0m \u001b[0mf\u001b[0m\u001b[1;33m(\u001b[0m\u001b[1;33m*\u001b[0m\u001b[0margs\u001b[0m\u001b[1;33m,\u001b[0m \u001b[1;33m**\u001b[0m\u001b[0mkwargs\u001b[0m\u001b[1;33m)\u001b[0m\u001b[1;33m\u001b[0m\u001b[1;33m\u001b[0m\u001b[0m\n\u001b[0m\u001b[0;32m     64\u001b[0m \u001b[1;33m\u001b[0m\u001b[0m\n\u001b[0;32m     65\u001b[0m             \u001b[1;31m# extra_args > 0\u001b[0m\u001b[1;33m\u001b[0m\u001b[1;33m\u001b[0m\u001b[1;33m\u001b[0m\u001b[0m\n",
      "\u001b[1;32m~\\anaconda3\\lib\\site-packages\\sklearn\\utils\\validation.py\u001b[0m in \u001b[0;36mcheck_X_y\u001b[1;34m(X, y, accept_sparse, accept_large_sparse, dtype, order, copy, force_all_finite, ensure_2d, allow_nd, multi_output, ensure_min_samples, ensure_min_features, y_numeric, estimator)\u001b[0m\n\u001b[0;32m    812\u001b[0m         \u001b[1;32mraise\u001b[0m \u001b[0mValueError\u001b[0m\u001b[1;33m(\u001b[0m\u001b[1;34m\"y cannot be None\"\u001b[0m\u001b[1;33m)\u001b[0m\u001b[1;33m\u001b[0m\u001b[1;33m\u001b[0m\u001b[0m\n\u001b[0;32m    813\u001b[0m \u001b[1;33m\u001b[0m\u001b[0m\n\u001b[1;32m--> 814\u001b[1;33m     X = check_array(X, accept_sparse=accept_sparse,\n\u001b[0m\u001b[0;32m    815\u001b[0m                     \u001b[0maccept_large_sparse\u001b[0m\u001b[1;33m=\u001b[0m\u001b[0maccept_large_sparse\u001b[0m\u001b[1;33m,\u001b[0m\u001b[1;33m\u001b[0m\u001b[1;33m\u001b[0m\u001b[0m\n\u001b[0;32m    816\u001b[0m                     \u001b[0mdtype\u001b[0m\u001b[1;33m=\u001b[0m\u001b[0mdtype\u001b[0m\u001b[1;33m,\u001b[0m \u001b[0morder\u001b[0m\u001b[1;33m=\u001b[0m\u001b[0morder\u001b[0m\u001b[1;33m,\u001b[0m \u001b[0mcopy\u001b[0m\u001b[1;33m=\u001b[0m\u001b[0mcopy\u001b[0m\u001b[1;33m,\u001b[0m\u001b[1;33m\u001b[0m\u001b[1;33m\u001b[0m\u001b[0m\n",
      "\u001b[1;32m~\\anaconda3\\lib\\site-packages\\sklearn\\utils\\validation.py\u001b[0m in \u001b[0;36minner_f\u001b[1;34m(*args, **kwargs)\u001b[0m\n\u001b[0;32m     61\u001b[0m             \u001b[0mextra_args\u001b[0m \u001b[1;33m=\u001b[0m \u001b[0mlen\u001b[0m\u001b[1;33m(\u001b[0m\u001b[0margs\u001b[0m\u001b[1;33m)\u001b[0m \u001b[1;33m-\u001b[0m \u001b[0mlen\u001b[0m\u001b[1;33m(\u001b[0m\u001b[0mall_args\u001b[0m\u001b[1;33m)\u001b[0m\u001b[1;33m\u001b[0m\u001b[1;33m\u001b[0m\u001b[0m\n\u001b[0;32m     62\u001b[0m             \u001b[1;32mif\u001b[0m \u001b[0mextra_args\u001b[0m \u001b[1;33m<=\u001b[0m \u001b[1;36m0\u001b[0m\u001b[1;33m:\u001b[0m\u001b[1;33m\u001b[0m\u001b[1;33m\u001b[0m\u001b[0m\n\u001b[1;32m---> 63\u001b[1;33m                 \u001b[1;32mreturn\u001b[0m \u001b[0mf\u001b[0m\u001b[1;33m(\u001b[0m\u001b[1;33m*\u001b[0m\u001b[0margs\u001b[0m\u001b[1;33m,\u001b[0m \u001b[1;33m**\u001b[0m\u001b[0mkwargs\u001b[0m\u001b[1;33m)\u001b[0m\u001b[1;33m\u001b[0m\u001b[1;33m\u001b[0m\u001b[0m\n\u001b[0m\u001b[0;32m     64\u001b[0m \u001b[1;33m\u001b[0m\u001b[0m\n\u001b[0;32m     65\u001b[0m             \u001b[1;31m# extra_args > 0\u001b[0m\u001b[1;33m\u001b[0m\u001b[1;33m\u001b[0m\u001b[1;33m\u001b[0m\u001b[0m\n",
      "\u001b[1;32m~\\anaconda3\\lib\\site-packages\\sklearn\\utils\\validation.py\u001b[0m in \u001b[0;36mcheck_array\u001b[1;34m(array, accept_sparse, accept_large_sparse, dtype, order, copy, force_all_finite, ensure_2d, allow_nd, ensure_min_samples, ensure_min_features, estimator)\u001b[0m\n\u001b[0;32m    661\u001b[0m \u001b[1;33m\u001b[0m\u001b[0m\n\u001b[0;32m    662\u001b[0m         \u001b[1;32mif\u001b[0m \u001b[0mforce_all_finite\u001b[0m\u001b[1;33m:\u001b[0m\u001b[1;33m\u001b[0m\u001b[1;33m\u001b[0m\u001b[0m\n\u001b[1;32m--> 663\u001b[1;33m             _assert_all_finite(array,\n\u001b[0m\u001b[0;32m    664\u001b[0m                                allow_nan=force_all_finite == 'allow-nan')\n\u001b[0;32m    665\u001b[0m \u001b[1;33m\u001b[0m\u001b[0m\n",
      "\u001b[1;32m~\\anaconda3\\lib\\site-packages\\sklearn\\utils\\validation.py\u001b[0m in \u001b[0;36m_assert_all_finite\u001b[1;34m(X, allow_nan, msg_dtype)\u001b[0m\n\u001b[0;32m    101\u001b[0m                 not allow_nan and not np.isfinite(X).all()):\n\u001b[0;32m    102\u001b[0m             \u001b[0mtype_err\u001b[0m \u001b[1;33m=\u001b[0m \u001b[1;34m'infinity'\u001b[0m \u001b[1;32mif\u001b[0m \u001b[0mallow_nan\u001b[0m \u001b[1;32melse\u001b[0m \u001b[1;34m'NaN, infinity'\u001b[0m\u001b[1;33m\u001b[0m\u001b[1;33m\u001b[0m\u001b[0m\n\u001b[1;32m--> 103\u001b[1;33m             raise ValueError(\n\u001b[0m\u001b[0;32m    104\u001b[0m                     \u001b[0mmsg_err\u001b[0m\u001b[1;33m.\u001b[0m\u001b[0mformat\u001b[0m\u001b[1;33m\u001b[0m\u001b[1;33m\u001b[0m\u001b[0m\n\u001b[0;32m    105\u001b[0m                     (type_err,\n",
      "\u001b[1;31mValueError\u001b[0m: Input contains NaN, infinity or a value too large for dtype('float64')."
     ]
    }
   ],
   "source": [
    "X = df[['Age', 'Days in Shelter']]\n",
    "y = dfNumbers\n",
    "\n",
    "regr = linear_model.LinearRegression()\n",
    "regr.fit(X, y)\n",
    "print(regr.coef_)"
   ]
  },
  {
   "cell_type": "code",
   "execution_count": 538,
   "id": "0e23b651",
   "metadata": {},
   "outputs": [
    {
     "data": {
      "image/png": "[encoded data removed]",
      "text/plain": [
       "<Figure size 432x288 with 1 Axes>"
      ]
     },
     "metadata": {
      "needs_background": "light"
     },
     "output_type": "display_data"
    }
   ],
   "source": [
    "dfClean.plot(x='Age', y='Days in Shelter', style='o')  \n",
    "plt.title('Days in Shelter vs Age')  \n",
    "plt.xlabel('Age')  \n",
    "plt.ylabel('Days in Shelter')  \n",
    "plt.show()"
   ]
  },
  {
   "cell_type": "code",
   "execution_count": 539,
   "id": "b31706fd",
   "metadata": {},
   "outputs": [
    {
     "name": "stderr",
     "output_type": "stream",
     "text": [
      "C:\\Users\\Rudy\\anaconda3\\lib\\site-packages\\seaborn\\distributions.py:2557: FutureWarning: `distplot` is a deprecated function and will be removed in a future version. Please adapt your code to use either `displot` (a figure-level function with similar flexibility) or `histplot` (an axes-level function for histograms).\n",
      "  warnings.warn(msg, FutureWarning)\n"
     ]
    },
    {
     "data": {
      "text/plain": [
       "<AxesSubplot:xlabel='Days in Shelter', ylabel='Density'>"
      ]
     },
     "execution_count": 539,
     "metadata": {},
     "output_type": "execute_result"
    },
    {
     "data": {
      "image/png": "[encoded data removed]",
      "text/plain": [
       "<Figure size 1080x1080 with 1 Axes>"
      ]
     },
     "metadata": {
      "needs_background": "light"
     },
     "output_type": "display_data"
    }
   ],
   "source": [
    "plt.figure(figsize=(15,15))\n",
    "plt.tight_layout()\n",
    "seabornInstance.distplot(dfClean['Days in Shelter'])"
   ]
  },
  {
   "cell_type": "code",
   "execution_count": 540,
   "id": "81d1599c",
   "metadata": {},
   "outputs": [
    {
     "name": "stderr",
     "output_type": "stream",
     "text": [
      "C:\\Users\\Rudy\\anaconda3\\lib\\site-packages\\seaborn\\distributions.py:2557: FutureWarning: `distplot` is a deprecated function and will be removed in a future version. Please adapt your code to use either `displot` (a figure-level function with similar flexibility) or `histplot` (an axes-level function for histograms).\n",
      "  warnings.warn(msg, FutureWarning)\n"
     ]
    },
    {
     "data": {
      "text/plain": [
       "<AxesSubplot:xlabel='Age', ylabel='Density'>"
      ]
     },
     "execution_count": 540,
     "metadata": {},
     "output_type": "execute_result"
    },
    {
     "data": {
      "image/png": "[encoded data removed]",
      "text/plain": [
       "<Figure size 1080x1080 with 1 Axes>"
      ]
     },
     "metadata": {
      "needs_background": "light"
     },
     "output_type": "display_data"
    }
   ],
   "source": [
    "plt.figure(figsize=(15,15))\n",
    "plt.tight_layout()\n",
    "seabornInstance.distplot(dfClean['Age'])"
   ]
  },
  {
   "cell_type": "code",
   "execution_count": 541,
   "id": "c4f6d728",
   "metadata": {},
   "outputs": [
    {
     "data": {
      "text/plain": [
       "0        0\n",
       "1        1\n",
       "2        1\n",
       "3        1\n",
       "4        1\n",
       "        ..\n",
       "20171    0\n",
       "20172    0\n",
       "20173    0\n",
       "20174    1\n",
       "20175    0\n",
       "Name: Outcome Type, Length: 20176, dtype: int32"
      ]
     },
     "execution_count": 541,
     "metadata": {},
     "output_type": "execute_result"
    }
   ],
   "source": [
    "dfCleanNumbers = dfClean['Outcome Type'].eq('ADOPTION').mul(1)\n",
    "dfCleanNumbers"
   ]
  },
  {
   "cell_type": "code",
   "execution_count": 542,
   "id": "ae0c7fbd",
   "metadata": {},
   "outputs": [
    {
     "name": "stderr",
     "output_type": "stream",
     "text": [
      "<ipython-input-542-623eff5a94b7>:1: SettingWithCopyWarning: \n",
      "A value is trying to be set on a copy of a slice from a DataFrame.\n",
      "Try using .loc[row_indexer,col_indexer] = value instead\n",
      "\n",
      "See the caveats in the documentation: https://pandas.pydata.org/pandas-docs/stable/user_guide/indexing.html#returning-a-view-versus-a-copy\n",
      "  dfClean['Outcome Type'] = dfCleanNumbers\n"
     ]
    }
   ],
   "source": [
    "dfClean['Outcome Type'] = dfCleanNumbers"
   ]
  },
  {
   "cell_type": "code",
   "execution_count": 543,
   "id": "1316163c",
   "metadata": {},
   "outputs": [
    {
     "data": {
      "text/html": [
       "<div>\n",
       "<style scoped>\n",
       "    .dataframe tbody tr th:only-of-type {\n",
       "        vertical-align: middle;\n",
       "    }\n",
       "\n",
       "    .dataframe tbody tr th {\n",
       "        vertical-align: top;\n",
       "    }\n",
       "\n",
       "    .dataframe thead th {\n",
       "        text-align: right;\n",
       "    }\n",
       "</style>\n",
       "<table border=\"1\" class=\"dataframe\">\n",
       "  <thead>\n",
       "    <tr style=\"text-align: right;\">\n",
       "      <th></th>\n",
       "      <th>Age</th>\n",
       "      <th>Size</th>\n",
       "      <th>Days in Shelter</th>\n",
       "      <th>Outcome Type</th>\n",
       "    </tr>\n",
       "  </thead>\n",
       "  <tbody>\n",
       "    <tr>\n",
       "      <th>0</th>\n",
       "      <td>7.624658</td>\n",
       "      <td>24.0</td>\n",
       "      <td>3</td>\n",
       "      <td>0</td>\n",
       "    </tr>\n",
       "    <tr>\n",
       "      <th>1</th>\n",
       "      <td>1.334247</td>\n",
       "      <td>12.0</td>\n",
       "      <td>49</td>\n",
       "      <td>1</td>\n",
       "    </tr>\n",
       "    <tr>\n",
       "      <th>2</th>\n",
       "      <td>2.306849</td>\n",
       "      <td>12.0</td>\n",
       "      <td>38</td>\n",
       "      <td>1</td>\n",
       "    </tr>\n",
       "    <tr>\n",
       "      <th>3</th>\n",
       "      <td>1.073973</td>\n",
       "      <td>3.0</td>\n",
       "      <td>6</td>\n",
       "      <td>1</td>\n",
       "    </tr>\n",
       "    <tr>\n",
       "      <th>4</th>\n",
       "      <td>3.854795</td>\n",
       "      <td>12.0</td>\n",
       "      <td>20</td>\n",
       "      <td>1</td>\n",
       "    </tr>\n",
       "    <tr>\n",
       "      <th>...</th>\n",
       "      <td>...</td>\n",
       "      <td>...</td>\n",
       "      <td>...</td>\n",
       "      <td>...</td>\n",
       "    </tr>\n",
       "    <tr>\n",
       "      <th>20171</th>\n",
       "      <td>NaN</td>\n",
       "      <td>12.0</td>\n",
       "      <td>0</td>\n",
       "      <td>0</td>\n",
       "    </tr>\n",
       "    <tr>\n",
       "      <th>20172</th>\n",
       "      <td>NaN</td>\n",
       "      <td>3.0</td>\n",
       "      <td>0</td>\n",
       "      <td>0</td>\n",
       "    </tr>\n",
       "    <tr>\n",
       "      <th>20173</th>\n",
       "      <td>4.805479</td>\n",
       "      <td>5.0</td>\n",
       "      <td>13</td>\n",
       "      <td>0</td>\n",
       "    </tr>\n",
       "    <tr>\n",
       "      <th>20174</th>\n",
       "      <td>6.589041</td>\n",
       "      <td>5.0</td>\n",
       "      <td>16</td>\n",
       "      <td>1</td>\n",
       "    </tr>\n",
       "    <tr>\n",
       "      <th>20175</th>\n",
       "      <td>6.534247</td>\n",
       "      <td>3.0</td>\n",
       "      <td>49</td>\n",
       "      <td>0</td>\n",
       "    </tr>\n",
       "  </tbody>\n",
       "</table>\n",
       "<p>20176 rows × 4 columns</p>\n",
       "</div>"
      ],
      "text/plain": [
       "            Age  Size  Days in Shelter  Outcome Type\n",
       "0      7.624658  24.0                3             0\n",
       "1      1.334247  12.0               49             1\n",
       "2      2.306849  12.0               38             1\n",
       "3      1.073973   3.0                6             1\n",
       "4      3.854795  12.0               20             1\n",
       "...         ...   ...              ...           ...\n",
       "20171       NaN  12.0                0             0\n",
       "20172       NaN   3.0                0             0\n",
       "20173  4.805479   5.0               13             0\n",
       "20174  6.589041   5.0               16             1\n",
       "20175  6.534247   3.0               49             0\n",
       "\n",
       "[20176 rows x 4 columns]"
      ]
     },
     "execution_count": 543,
     "metadata": {},
     "output_type": "execute_result"
    }
   ],
   "source": [
    "dfClean # This DataFrame now has 0 for not adopted and 1 for Adopted"
   ]
  },
  {
   "cell_type": "code",
   "execution_count": 544,
   "id": "6684afae",
   "metadata": {},
   "outputs": [
    {
     "name": "stdout",
     "output_type": "stream",
     "text": [
      "<class 'pandas.core.frame.DataFrame'>\n",
      "RangeIndex: 20176 entries, 0 to 20175\n",
      "Data columns (total 4 columns):\n",
      " #   Column           Non-Null Count  Dtype  \n",
      "---  ------           --------------  -----  \n",
      " 0   Age              16021 non-null  float64\n",
      " 1   Size             20143 non-null  float64\n",
      " 2   Days in Shelter  20176 non-null  int64  \n",
      " 3   Outcome Type     20176 non-null  int32  \n",
      "dtypes: float64(2), int32(1), int64(1)\n",
      "memory usage: 551.8 KB\n"
     ]
    }
   ],
   "source": [
    "dfClean.apply(pd.to_numeric, errors='ignore').info() #Making sure all df is numeric"
   ]
  },
  {
   "cell_type": "code",
   "execution_count": 545,
   "id": "2151af8d",
   "metadata": {},
   "outputs": [
    {
     "name": "stderr",
     "output_type": "stream",
     "text": [
      "C:\\Users\\Rudy\\anaconda3\\lib\\site-packages\\seaborn\\distributions.py:2557: FutureWarning: `distplot` is a deprecated function and will be removed in a future version. Please adapt your code to use either `displot` (a figure-level function with similar flexibility) or `histplot` (an axes-level function for histograms).\n",
      "  warnings.warn(msg, FutureWarning)\n"
     ]
    },
    {
     "data": {
      "text/plain": [
       "<AxesSubplot:xlabel='Days in Shelter', ylabel='Density'>"
      ]
     },
     "execution_count": 545,
     "metadata": {},
     "output_type": "execute_result"
    },
    {
     "data": {
      "image/png": "[encoded data removed]",
      "text/plain": [
       "<Figure size 1080x1080 with 1 Axes>"
      ]
     },
     "metadata": {
      "needs_background": "light"
     },
     "output_type": "display_data"
    }
   ],
   "source": [
    "plt.figure(figsize=(15,15))\n",
    "plt.tight_layout()\n",
    "seabornInstance.distplot(dfClean['Days in Shelter'])"
   ]
  },
  {
   "cell_type": "code",
   "execution_count": 546,
   "id": "3dbb8b26",
   "metadata": {},
   "outputs": [
    {
     "name": "stderr",
     "output_type": "stream",
     "text": [
      "C:\\Users\\Rudy\\anaconda3\\lib\\site-packages\\seaborn\\distributions.py:2557: FutureWarning: `distplot` is a deprecated function and will be removed in a future version. Please adapt your code to use either `displot` (a figure-level function with similar flexibility) or `histplot` (an axes-level function for histograms).\n",
      "  warnings.warn(msg, FutureWarning)\n"
     ]
    },
    {
     "data": {
      "text/plain": [
       "<AxesSubplot:xlabel='Age', ylabel='Density'>"
      ]
     },
     "execution_count": 546,
     "metadata": {},
     "output_type": "execute_result"
    },
    {
     "data": {
      "image/png": "[encoded data removed]",
      "text/plain": [
       "<Figure size 1080x1080 with 1 Axes>"
      ]
     },
     "metadata": {
      "needs_background": "light"
     },
     "output_type": "display_data"
    }
   ],
   "source": [
    "plt.figure(figsize=(15,15))\n",
    "plt.tight_layout()\n",
    "seabornInstance.distplot(dfClean['Age']) #LET ME SHOW YOU THE DATA THAT I AM WORKING WITH - This is how the distribution is"
   ]
  },
  {
   "cell_type": "code",
   "execution_count": 547,
   "id": "8a175c95",
   "metadata": {},
   "outputs": [
    {
     "name": "stderr",
     "output_type": "stream",
     "text": [
      "C:\\Users\\Rudy\\anaconda3\\lib\\site-packages\\seaborn\\distributions.py:2557: FutureWarning: `distplot` is a deprecated function and will be removed in a future version. Please adapt your code to use either `displot` (a figure-level function with similar flexibility) or `histplot` (an axes-level function for histograms).\n",
      "  warnings.warn(msg, FutureWarning)\n"
     ]
    },
    {
     "data": {
      "text/plain": [
       "<AxesSubplot:xlabel='Age', ylabel='Density'>"
      ]
     },
     "execution_count": 547,
     "metadata": {},
     "output_type": "execute_result"
    },
    {
     "data": {
      "image/png": "[encoded data removed]",
      "text/plain": [
       "<Figure size 1080x1080 with 1 Axes>"
      ]
     },
     "metadata": {
      "needs_background": "light"
     },
     "output_type": "display_data"
    }
   ],
   "source": [
    "plt.figure(figsize=(15,15))\n",
    "plt.tight_layout()\n",
    "seabornInstance.distplot(dfClean['Age'])"
   ]
  },
  {
   "cell_type": "code",
   "execution_count": 548,
   "id": "26e85c1f",
   "metadata": {},
   "outputs": [
    {
     "data": {
      "text/plain": [
       "12.0     7120\n",
       "24.0     3789\n",
       "59.0     3694\n",
       "3.0      3533\n",
       "5.0      1060\n",
       "4.0       768\n",
       "100.0     179\n",
       "Name: Size, dtype: int64"
      ]
     },
     "execution_count": 548,
     "metadata": {},
     "output_type": "execute_result"
    }
   ],
   "source": [
    "df['Size'].value_counts()"
   ]
  },
  {
   "cell_type": "code",
   "execution_count": 549,
   "id": "4adbac04",
   "metadata": {},
   "outputs": [],
   "source": [
    "df[\"Size\"].replace({\"SMALL\": 12, \"MED\": 24, \"LARGE\": 59, \"KITTN\": 3, \"TOY\": 5, \"PUPPY\": 4, \"X-LRG\": 100}, inplace=True) #https://dogsized.com/what-are-the-different-sizes-of-dogs/\n"
   ]
  },
  {
   "cell_type": "code",
   "execution_count": 550,
   "id": "0861310c",
   "metadata": {},
   "outputs": [
    {
     "data": {
      "text/plain": [
       "4.257534     30\n",
       "8.515068     25\n",
       "5.400000     20\n",
       "3.687671     20\n",
       "15.904110    20\n",
       "             ..\n",
       "1.106849      1\n",
       "22.608219     1\n",
       "12.723288     1\n",
       "12.175342     1\n",
       "13.756164     1\n",
       "Name: Age, Length: 5124, dtype: int64"
      ]
     },
     "execution_count": 550,
     "metadata": {},
     "output_type": "execute_result"
    }
   ],
   "source": [
    "df[\"Age\"].value_counts()"
   ]
  },
  {
   "cell_type": "code",
   "execution_count": 551,
   "id": "fc701223",
   "metadata": {},
   "outputs": [
    {
     "data": {
      "text/plain": [
       "(-1.0, 4.0)"
      ]
     },
     "execution_count": 551,
     "metadata": {},
     "output_type": "execute_result"
    },
    {
     "data": {
      "image/png": "[encoded data removed]",
      "text/plain": [
       "<Figure size 640x480 with 1 Axes>"
      ]
     },
     "metadata": {
      "needs_background": "light"
     },
     "output_type": "display_data"
    }
   ],
   "source": [
    "x = np.array(dfClean[\"Days in Shelter\"])\n",
    "y = np.array(dfClean[\"Outcome Type\"])\n",
    "\n",
    "figure(figsize=(8, 6), dpi=80)\n",
    "plt.plot(x, y, 'o')\n",
    "m, b = np.polyfit(x, y, 1)\n",
    "plt.plot(x, m*x + b)\n",
    "plt.ylim([-1, 4])"
   ]
  },
  {
   "cell_type": "code",
   "execution_count": 552,
   "id": "f79a9448",
   "metadata": {},
   "outputs": [],
   "source": [
    "dfRenamed = dfClean.rename(columns={'Outcome Type': 'Adopted'})"
   ]
  },
  {
   "cell_type": "code",
   "execution_count": 553,
   "id": "3bb88f75",
   "metadata": {},
   "outputs": [
    {
     "data": {
      "text/html": [
       "<div>\n",
       "<style scoped>\n",
       "    .dataframe tbody tr th:only-of-type {\n",
       "        vertical-align: middle;\n",
       "    }\n",
       "\n",
       "    .dataframe tbody tr th {\n",
       "        vertical-align: top;\n",
       "    }\n",
       "\n",
       "    .dataframe thead th {\n",
       "        text-align: right;\n",
       "    }\n",
       "</style>\n",
       "<table border=\"1\" class=\"dataframe\">\n",
       "  <thead>\n",
       "    <tr style=\"text-align: right;\">\n",
       "      <th></th>\n",
       "      <th>Age</th>\n",
       "      <th>Size</th>\n",
       "      <th>Days in Shelter</th>\n",
       "      <th>Adopted</th>\n",
       "    </tr>\n",
       "  </thead>\n",
       "  <tbody>\n",
       "    <tr>\n",
       "      <th>0</th>\n",
       "      <td>7.624658</td>\n",
       "      <td>24.0</td>\n",
       "      <td>3</td>\n",
       "      <td>0</td>\n",
       "    </tr>\n",
       "    <tr>\n",
       "      <th>1</th>\n",
       "      <td>1.334247</td>\n",
       "      <td>12.0</td>\n",
       "      <td>49</td>\n",
       "      <td>1</td>\n",
       "    </tr>\n",
       "    <tr>\n",
       "      <th>2</th>\n",
       "      <td>2.306849</td>\n",
       "      <td>12.0</td>\n",
       "      <td>38</td>\n",
       "      <td>1</td>\n",
       "    </tr>\n",
       "    <tr>\n",
       "      <th>3</th>\n",
       "      <td>1.073973</td>\n",
       "      <td>3.0</td>\n",
       "      <td>6</td>\n",
       "      <td>1</td>\n",
       "    </tr>\n",
       "    <tr>\n",
       "      <th>4</th>\n",
       "      <td>3.854795</td>\n",
       "      <td>12.0</td>\n",
       "      <td>20</td>\n",
       "      <td>1</td>\n",
       "    </tr>\n",
       "    <tr>\n",
       "      <th>...</th>\n",
       "      <td>...</td>\n",
       "      <td>...</td>\n",
       "      <td>...</td>\n",
       "      <td>...</td>\n",
       "    </tr>\n",
       "    <tr>\n",
       "      <th>20171</th>\n",
       "      <td>NaN</td>\n",
       "      <td>12.0</td>\n",
       "      <td>0</td>\n",
       "      <td>0</td>\n",
       "    </tr>\n",
       "    <tr>\n",
       "      <th>20172</th>\n",
       "      <td>NaN</td>\n",
       "      <td>3.0</td>\n",
       "      <td>0</td>\n",
       "      <td>0</td>\n",
       "    </tr>\n",
       "    <tr>\n",
       "      <th>20173</th>\n",
       "      <td>4.805479</td>\n",
       "      <td>5.0</td>\n",
       "      <td>13</td>\n",
       "      <td>0</td>\n",
       "    </tr>\n",
       "    <tr>\n",
       "      <th>20174</th>\n",
       "      <td>6.589041</td>\n",
       "      <td>5.0</td>\n",
       "      <td>16</td>\n",
       "      <td>1</td>\n",
       "    </tr>\n",
       "    <tr>\n",
       "      <th>20175</th>\n",
       "      <td>6.534247</td>\n",
       "      <td>3.0</td>\n",
       "      <td>49</td>\n",
       "      <td>0</td>\n",
       "    </tr>\n",
       "  </tbody>\n",
       "</table>\n",
       "<p>20176 rows × 4 columns</p>\n",
       "</div>"
      ],
      "text/plain": [
       "            Age  Size  Days in Shelter  Adopted\n",
       "0      7.624658  24.0                3        0\n",
       "1      1.334247  12.0               49        1\n",
       "2      2.306849  12.0               38        1\n",
       "3      1.073973   3.0                6        1\n",
       "4      3.854795  12.0               20        1\n",
       "...         ...   ...              ...      ...\n",
       "20171       NaN  12.0                0        0\n",
       "20172       NaN   3.0                0        0\n",
       "20173  4.805479   5.0               13        0\n",
       "20174  6.589041   5.0               16        1\n",
       "20175  6.534247   3.0               49        0\n",
       "\n",
       "[20176 rows x 4 columns]"
      ]
     },
     "execution_count": 553,
     "metadata": {},
     "output_type": "execute_result"
    }
   ],
   "source": [
    "dfRenamed #Changed column label to Adopted"
   ]
  },
  {
   "cell_type": "code",
   "execution_count": 554,
   "id": "7ec22a0c",
   "metadata": {},
   "outputs": [],
   "source": [
    "dfRenamed = dfRenamed.dropna()"
   ]
  },
  {
   "cell_type": "code",
   "execution_count": 555,
   "id": "dbe17328",
   "metadata": {},
   "outputs": [
    {
     "data": {
      "text/html": [
       "<div>\n",
       "<style scoped>\n",
       "    .dataframe tbody tr th:only-of-type {\n",
       "        vertical-align: middle;\n",
       "    }\n",
       "\n",
       "    .dataframe tbody tr th {\n",
       "        vertical-align: top;\n",
       "    }\n",
       "\n",
       "    .dataframe thead th {\n",
       "        text-align: right;\n",
       "    }\n",
       "</style>\n",
       "<table border=\"1\" class=\"dataframe\">\n",
       "  <thead>\n",
       "    <tr style=\"text-align: right;\">\n",
       "      <th></th>\n",
       "      <th>Age</th>\n",
       "      <th>Size</th>\n",
       "      <th>Days in Shelter</th>\n",
       "      <th>Adopted</th>\n",
       "    </tr>\n",
       "  </thead>\n",
       "  <tbody>\n",
       "    <tr>\n",
       "      <th>0</th>\n",
       "      <td>7.624658</td>\n",
       "      <td>24.0</td>\n",
       "      <td>3</td>\n",
       "      <td>0</td>\n",
       "    </tr>\n",
       "    <tr>\n",
       "      <th>1</th>\n",
       "      <td>1.334247</td>\n",
       "      <td>12.0</td>\n",
       "      <td>49</td>\n",
       "      <td>1</td>\n",
       "    </tr>\n",
       "    <tr>\n",
       "      <th>2</th>\n",
       "      <td>2.306849</td>\n",
       "      <td>12.0</td>\n",
       "      <td>38</td>\n",
       "      <td>1</td>\n",
       "    </tr>\n",
       "    <tr>\n",
       "      <th>3</th>\n",
       "      <td>1.073973</td>\n",
       "      <td>3.0</td>\n",
       "      <td>6</td>\n",
       "      <td>1</td>\n",
       "    </tr>\n",
       "    <tr>\n",
       "      <th>4</th>\n",
       "      <td>3.854795</td>\n",
       "      <td>12.0</td>\n",
       "      <td>20</td>\n",
       "      <td>1</td>\n",
       "    </tr>\n",
       "    <tr>\n",
       "      <th>...</th>\n",
       "      <td>...</td>\n",
       "      <td>...</td>\n",
       "      <td>...</td>\n",
       "      <td>...</td>\n",
       "    </tr>\n",
       "    <tr>\n",
       "      <th>20168</th>\n",
       "      <td>6.906849</td>\n",
       "      <td>24.0</td>\n",
       "      <td>29</td>\n",
       "      <td>0</td>\n",
       "    </tr>\n",
       "    <tr>\n",
       "      <th>20169</th>\n",
       "      <td>3.323288</td>\n",
       "      <td>3.0</td>\n",
       "      <td>42</td>\n",
       "      <td>1</td>\n",
       "    </tr>\n",
       "    <tr>\n",
       "      <th>20173</th>\n",
       "      <td>4.805479</td>\n",
       "      <td>5.0</td>\n",
       "      <td>13</td>\n",
       "      <td>0</td>\n",
       "    </tr>\n",
       "    <tr>\n",
       "      <th>20174</th>\n",
       "      <td>6.589041</td>\n",
       "      <td>5.0</td>\n",
       "      <td>16</td>\n",
       "      <td>1</td>\n",
       "    </tr>\n",
       "    <tr>\n",
       "      <th>20175</th>\n",
       "      <td>6.534247</td>\n",
       "      <td>3.0</td>\n",
       "      <td>49</td>\n",
       "      <td>0</td>\n",
       "    </tr>\n",
       "  </tbody>\n",
       "</table>\n",
       "<p>15997 rows × 4 columns</p>\n",
       "</div>"
      ],
      "text/plain": [
       "            Age  Size  Days in Shelter  Adopted\n",
       "0      7.624658  24.0                3        0\n",
       "1      1.334247  12.0               49        1\n",
       "2      2.306849  12.0               38        1\n",
       "3      1.073973   3.0                6        1\n",
       "4      3.854795  12.0               20        1\n",
       "...         ...   ...              ...      ...\n",
       "20168  6.906849  24.0               29        0\n",
       "20169  3.323288   3.0               42        1\n",
       "20173  4.805479   5.0               13        0\n",
       "20174  6.589041   5.0               16        1\n",
       "20175  6.534247   3.0               49        0\n",
       "\n",
       "[15997 rows x 4 columns]"
      ]
     },
     "execution_count": 555,
     "metadata": {},
     "output_type": "execute_result"
    }
   ],
   "source": [
    "dfRenamed"
   ]
  },
  {
   "cell_type": "code",
   "execution_count": 556,
   "id": "2d58e2ff",
   "metadata": {},
   "outputs": [
    {
     "data": {
      "text/html": [
       "<table class=\"simpletable\">\n",
       "<caption>OLS Regression Results</caption>\n",
       "<tr>\n",
       "  <th>Dep. Variable:</th>           <td>Age</td>       <th>  R-squared:         </th> <td>   0.028</td> \n",
       "</tr>\n",
       "<tr>\n",
       "  <th>Model:</th>                   <td>OLS</td>       <th>  Adj. R-squared:    </th> <td>   0.028</td> \n",
       "</tr>\n",
       "<tr>\n",
       "  <th>Method:</th>             <td>Least Squares</td>  <th>  F-statistic:       </th> <td>   468.3</td> \n",
       "</tr>\n",
       "<tr>\n",
       "  <th>Date:</th>             <td>Tue, 23 Nov 2021</td> <th>  Prob (F-statistic):</th> <td>2.25e-102</td>\n",
       "</tr>\n",
       "<tr>\n",
       "  <th>Time:</th>                 <td>11:58:41</td>     <th>  Log-Likelihood:    </th> <td> -46427.</td> \n",
       "</tr>\n",
       "<tr>\n",
       "  <th>No. Observations:</th>      <td> 15997</td>      <th>  AIC:               </th> <td>9.286e+04</td>\n",
       "</tr>\n",
       "<tr>\n",
       "  <th>Df Residuals:</th>          <td> 15995</td>      <th>  BIC:               </th> <td>9.287e+04</td>\n",
       "</tr>\n",
       "<tr>\n",
       "  <th>Df Model:</th>              <td>     1</td>      <th>                     </th>     <td> </td>    \n",
       "</tr>\n",
       "<tr>\n",
       "  <th>Covariance Type:</th>      <td>nonrobust</td>    <th>                     </th>     <td> </td>    \n",
       "</tr>\n",
       "</table>\n",
       "<table class=\"simpletable\">\n",
       "<tr>\n",
       "      <td></td>         <th>coef</th>     <th>std err</th>      <th>t</th>      <th>P>|t|</th>  <th>[0.025</th>    <th>0.975]</th>  \n",
       "</tr>\n",
       "<tr>\n",
       "  <th>Intercept</th> <td>    7.2217</td> <td>    0.050</td> <td>  144.839</td> <td> 0.000</td> <td>    7.124</td> <td>    7.319</td>\n",
       "</tr>\n",
       "<tr>\n",
       "  <th>Size</th>      <td>    0.0360</td> <td>    0.002</td> <td>   21.639</td> <td> 0.000</td> <td>    0.033</td> <td>    0.039</td>\n",
       "</tr>\n",
       "</table>\n",
       "<table class=\"simpletable\">\n",
       "<tr>\n",
       "  <th>Omnibus:</th>       <td>2207.959</td> <th>  Durbin-Watson:     </th> <td>   1.918</td>\n",
       "</tr>\n",
       "<tr>\n",
       "  <th>Prob(Omnibus):</th>  <td> 0.000</td>  <th>  Jarque-Bera (JB):  </th> <td>3357.852</td>\n",
       "</tr>\n",
       "<tr>\n",
       "  <th>Skew:</th>           <td> 0.996</td>  <th>  Prob(JB):          </th> <td>    0.00</td>\n",
       "</tr>\n",
       "<tr>\n",
       "  <th>Kurtosis:</th>       <td> 4.036</td>  <th>  Cond. No.          </th> <td>    42.9</td>\n",
       "</tr>\n",
       "</table><br/><br/>Notes:<br/>[1] Standard Errors assume that the covariance matrix of the errors is correctly specified."
      ],
      "text/plain": [
       "<class 'statsmodels.iolib.summary.Summary'>\n",
       "\"\"\"\n",
       "                            OLS Regression Results                            \n",
       "==============================================================================\n",
       "Dep. Variable:                    Age   R-squared:                       0.028\n",
       "Model:                            OLS   Adj. R-squared:                  0.028\n",
       "Method:                 Least Squares   F-statistic:                     468.3\n",
       "Date:                Tue, 23 Nov 2021   Prob (F-statistic):          2.25e-102\n",
       "Time:                        11:58:41   Log-Likelihood:                -46427.\n",
       "No. Observations:               15997   AIC:                         9.286e+04\n",
       "Df Residuals:                   15995   BIC:                         9.287e+04\n",
       "Df Model:                           1                                         \n",
       "Covariance Type:            nonrobust                                         \n",
       "==============================================================================\n",
       "                 coef    std err          t      P>|t|      [0.025      0.975]\n",
       "------------------------------------------------------------------------------\n",
       "Intercept      7.2217      0.050    144.839      0.000       7.124       7.319\n",
       "Size           0.0360      0.002     21.639      0.000       0.033       0.039\n",
       "==============================================================================\n",
       "Omnibus:                     2207.959   Durbin-Watson:                   1.918\n",
       "Prob(Omnibus):                  0.000   Jarque-Bera (JB):             3357.852\n",
       "Skew:                           0.996   Prob(JB):                         0.00\n",
       "Kurtosis:                       4.036   Cond. No.                         42.9\n",
       "==============================================================================\n",
       "\n",
       "Notes:\n",
       "[1] Standard Errors assume that the covariance matrix of the errors is correctly specified.\n",
       "\"\"\""
      ]
     },
     "execution_count": 556,
     "metadata": {},
     "output_type": "execute_result"
    }
   ],
   "source": [
    "reg = ols(\"Age ~ Size\", dfRenamed).fit()\n",
    "\n",
    "reg.summary()"
   ]
  },
  {
   "cell_type": "code",
   "execution_count": 557,
   "id": "7c226618",
   "metadata": {},
   "outputs": [
    {
     "name": "stdout",
     "output_type": "stream",
     "text": [
      "                            OLS Regression Results                            \n",
      "==============================================================================\n",
      "Dep. Variable:                Adopted   R-squared:                       0.182\n",
      "Model:                            OLS   Adj. R-squared:                  0.182\n",
      "Method:                 Least Squares   F-statistic:                     1190.\n",
      "Date:                Tue, 23 Nov 2021   Prob (F-statistic):               0.00\n",
      "Time:                        11:58:43   Log-Likelihood:                -9626.8\n",
      "No. Observations:               15997   AIC:                         1.926e+04\n",
      "Df Residuals:                   15993   BIC:                         1.929e+04\n",
      "Df Model:                           3                                         \n",
      "Covariance Type:            nonrobust                                         \n",
      "===================================================================================\n",
      "                      coef    std err          t      P>|t|      [0.025      0.975]\n",
      "-----------------------------------------------------------------------------------\n",
      "const               0.6063      0.008     76.890      0.000       0.591       0.622\n",
      "Size               -0.0058      0.000    -34.073      0.000      -0.006      -0.005\n",
      "Age                -0.0198      0.001    -24.907      0.000      -0.021      -0.018\n",
      "Days in Shelter     0.0035   9.46e-05     36.913      0.000       0.003       0.004\n",
      "==============================================================================\n",
      "Omnibus:                       16.957   Durbin-Watson:                   1.922\n",
      "Prob(Omnibus):                  0.000   Jarque-Bera (JB):               18.206\n",
      "Skew:                           0.048   Prob(JB):                     0.000111\n",
      "Kurtosis:                       3.134   Cond. No.                         100.\n",
      "==============================================================================\n",
      "\n",
      "Notes:\n",
      "[1] Standard Errors assume that the covariance matrix of the errors is correctly specified.\n"
     ]
    },
    {
     "name": "stderr",
     "output_type": "stream",
     "text": [
      "<ipython-input-557-0fbd0cf86759>:1: SettingWithCopyWarning: \n",
      "A value is trying to be set on a copy of a slice from a DataFrame\n",
      "\n",
      "See the caveats in the documentation: https://pandas.pydata.org/pandas-docs/stable/user_guide/indexing.html#returning-a-view-versus-a-copy\n",
      "  dfRenamed.dropna(subset = [\"Age\",\"Size\",\"Days in Shelter\"], inplace=True) #This will allow us to compare without considering NaN\n"
     ]
    }
   ],
   "source": [
    "dfRenamed.dropna(subset = [\"Age\",\"Size\",\"Days in Shelter\"], inplace=True) #This will allow us to compare without considering NaN\n",
    "reg2 = sm.OLS(dfRenamed[\"Adopted\"], sm.add_constant(dfRenamed[[\"Size\", \"Age\", \"Days in Shelter\"]])).fit()\n",
    "print(reg2.summary())"
   ]
  },
  {
   "cell_type": "code",
   "execution_count": 559,
   "id": "244c639b",
   "metadata": {},
   "outputs": [
    {
     "name": "stdout",
     "output_type": "stream",
     "text": [
      "[-0.01975793 -0.00577074  0.00349187]\n"
     ]
    }
   ],
   "source": [
    "X = dfRenamed[['Age', 'Size', \"Days in Shelter\"]]\n",
    "y = dfRenamed['Adopted']\n",
    "\n",
    "regr = linear_model.LinearRegression()\n",
    "regr.fit(X, y)\n",
    "print(regr.coef_)"
   ]
  },
  {
   "cell_type": "code",
   "execution_count": 560,
   "id": "64e6c7d5",
   "metadata": {},
   "outputs": [
    {
     "data": {
      "image/png": "[encoded data removed]",
      "text/plain": [
       "<Figure size 432x288 with 2 Axes>"
      ]
     },
     "metadata": {
      "needs_background": "light"
     },
     "output_type": "display_data"
    }
   ],
   "source": [
    "corr_df = dfRenamed.corr() #NOT OPTIMAL CORRELATION AS ITS ABSOLUTE VALUE IS NOT ABOVE .50\n",
    "\n",
    "sns.heatmap(corr_df, cmap=\"YlGnBu\", annot = True)\n",
    "plt.show()"
   ]
  },
  {
   "cell_type": "code",
   "execution_count": 561,
   "id": "33cd0a5f",
   "metadata": {},
   "outputs": [
    {
     "name": "stdout",
     "output_type": "stream",
     "text": [
      "Requirement already satisfied: tensorflow in c:\\users\\rudy\\anaconda3\\lib\\site-packages (2.7.0)\n",
      "Requirement already satisfied: keras<2.8,>=2.7.0rc0 in c:\\users\\rudy\\anaconda3\\lib\\site-packages (from tensorflow) (2.7.0)\n",
      "Requirement already satisfied: h5py>=2.9.0 in c:\\users\\rudy\\anaconda3\\lib\\site-packages (from tensorflow) (2.10.0)\n",
      "Requirement already satisfied: tensorboard~=2.6 in c:\\users\\rudy\\anaconda3\\lib\\site-packages (from tensorflow) (2.7.0)\n",
      "Requirement already satisfied: google-pasta>=0.1.1 in c:\\users\\rudy\\anaconda3\\lib\\site-packages (from tensorflow) (0.2.0)\n",
      "Requirement already satisfied: gast<0.5.0,>=0.2.1 in c:\\users\\rudy\\anaconda3\\lib\\site-packages (from tensorflow) (0.4.0)\n",
      "Requirement already satisfied: keras-preprocessing>=1.1.1 in c:\\users\\rudy\\anaconda3\\lib\\site-packages (from tensorflow) (1.1.2)\n",
      "Requirement already satisfied: tensorflow-io-gcs-filesystem>=0.21.0 in c:\\users\\rudy\\anaconda3\\lib\\site-packages (from tensorflow) (0.22.0)\n",
      "Requirement already satisfied: termcolor>=1.1.0 in c:\\users\\rudy\\anaconda3\\lib\\site-packages (from tensorflow) (1.1.0)\n",
      "Requirement already satisfied: tensorflow-estimator<2.8,~=2.7.0rc0 in c:\\users\\rudy\\anaconda3\\lib\\site-packages (from tensorflow) (2.7.0)\n",
      "Requirement already satisfied: typing-extensions>=3.6.6 in c:\\users\\rudy\\anaconda3\\lib\\site-packages (from tensorflow) (3.7.4.3)\n",
      "Requirement already satisfied: grpcio<2.0,>=1.24.3 in c:\\users\\rudy\\anaconda3\\lib\\site-packages (from tensorflow) (1.42.0)\n",
      "Requirement already satisfied: six>=1.12.0 in c:\\users\\rudy\\anaconda3\\lib\\site-packages (from tensorflow) (1.15.0)\n",
      "Requirement already satisfied: wrapt>=1.11.0 in c:\\users\\rudy\\anaconda3\\lib\\site-packages (from tensorflow) (1.12.1)\n",
      "Requirement already satisfied: libclang>=9.0.1 in c:\\users\\rudy\\anaconda3\\lib\\site-packages (from tensorflow) (12.0.0)\n",
      "Requirement already satisfied: flatbuffers<3.0,>=1.12 in c:\\users\\rudy\\anaconda3\\lib\\site-packages (from tensorflow) (2.0)\n",
      "Requirement already satisfied: protobuf>=3.9.2 in c:\\users\\rudy\\anaconda3\\lib\\site-packages (from tensorflow) (3.19.1)\n",
      "Requirement already satisfied: absl-py>=0.4.0 in c:\\users\\rudy\\anaconda3\\lib\\site-packages (from tensorflow) (1.0.0)\n",
      "Requirement already satisfied: opt-einsum>=2.3.2 in c:\\users\\rudy\\anaconda3\\lib\\site-packages (from tensorflow) (3.3.0)\n",
      "Requirement already satisfied: wheel<1.0,>=0.32.0 in c:\\users\\rudy\\anaconda3\\lib\\site-packages (from tensorflow) (0.36.2)\n",
      "Requirement already satisfied: numpy>=1.14.5 in c:\\users\\rudy\\anaconda3\\lib\\site-packages (from tensorflow) (1.20.1)\n",
      "Requirement already satisfied: astunparse>=1.6.0 in c:\\users\\rudy\\anaconda3\\lib\\site-packages (from tensorflow) (1.6.3)\n",
      "Requirement already satisfied: tensorboard-plugin-wit>=1.6.0 in c:\\users\\rudy\\anaconda3\\lib\\site-packages (from tensorboard~=2.6->tensorflow) (1.8.0)\n",
      "Requirement already satisfied: google-auth<3,>=1.6.3 in c:\\users\\rudy\\anaconda3\\lib\\site-packages (from tensorboard~=2.6->tensorflow) (2.3.3)\n",
      "Requirement already satisfied: werkzeug>=0.11.15 in c:\\users\\rudy\\anaconda3\\lib\\site-packages (from tensorboard~=2.6->tensorflow) (1.0.1)\n",
      "Requirement already satisfied: markdown>=2.6.8 in c:\\users\\rudy\\anaconda3\\lib\\site-packages (from tensorboard~=2.6->tensorflow) (3.3.6)\n",
      "Requirement already satisfied: setuptools>=41.0.0 in c:\\users\\rudy\\anaconda3\\lib\\site-packages (from tensorboard~=2.6->tensorflow) (52.0.0.post20210125)\n",
      "Requirement already satisfied: google-auth-oauthlib<0.5,>=0.4.1 in c:\\users\\rudy\\anaconda3\\lib\\site-packages (from tensorboard~=2.6->tensorflow) (0.4.6)\n",
      "Requirement already satisfied: requests<3,>=2.21.0 in c:\\users\\rudy\\anaconda3\\lib\\site-packages (from tensorboard~=2.6->tensorflow) (2.25.1)\n",
      "Requirement already satisfied: tensorboard-data-server<0.7.0,>=0.6.0 in c:\\users\\rudy\\anaconda3\\lib\\site-packages (from tensorboard~=2.6->tensorflow) (0.6.1)\n",
      "Requirement already satisfied: cachetools<5.0,>=2.0.0 in c:\\users\\rudy\\anaconda3\\lib\\site-packages (from google-auth<3,>=1.6.3->tensorboard~=2.6->tensorflow) (4.2.4)\n",
      "Requirement already satisfied: pyasn1-modules>=0.2.1 in c:\\users\\rudy\\anaconda3\\lib\\site-packages (from google-auth<3,>=1.6.3->tensorboard~=2.6->tensorflow) (0.2.8)\n",
      "Requirement already satisfied: rsa<5,>=3.1.4 in c:\\users\\rudy\\anaconda3\\lib\\site-packages (from google-auth<3,>=1.6.3->tensorboard~=2.6->tensorflow) (4.7.2)\n",
      "Requirement already satisfied: requests-oauthlib>=0.7.0 in c:\\users\\rudy\\anaconda3\\lib\\site-packages (from google-auth-oauthlib<0.5,>=0.4.1->tensorboard~=2.6->tensorflow) (1.3.0)\n",
      "Requirement already satisfied: importlib-metadata>=4.4 in c:\\users\\rudy\\anaconda3\\lib\\site-packages (from markdown>=2.6.8->tensorboard~=2.6->tensorflow) (4.8.2)\n",
      "Requirement already satisfied: zipp>=0.5 in c:\\users\\rudy\\anaconda3\\lib\\site-packages (from importlib-metadata>=4.4->markdown>=2.6.8->tensorboard~=2.6->tensorflow) (3.4.1)\n",
      "Requirement already satisfied: pyasn1<0.5.0,>=0.4.6 in c:\\users\\rudy\\anaconda3\\lib\\site-packages (from pyasn1-modules>=0.2.1->google-auth<3,>=1.6.3->tensorboard~=2.6->tensorflow) (0.4.8)\n",
      "Requirement already satisfied: certifi>=2017.4.17 in c:\\users\\rudy\\anaconda3\\lib\\site-packages (from requests<3,>=2.21.0->tensorboard~=2.6->tensorflow) (2020.12.5)\n",
      "Requirement already satisfied: urllib3<1.27,>=1.21.1 in c:\\users\\rudy\\anaconda3\\lib\\site-packages (from requests<3,>=2.21.0->tensorboard~=2.6->tensorflow) (1.26.4)\n",
      "Requirement already satisfied: idna<3,>=2.5 in c:\\users\\rudy\\anaconda3\\lib\\site-packages (from requests<3,>=2.21.0->tensorboard~=2.6->tensorflow) (2.10)\n",
      "Requirement already satisfied: chardet<5,>=3.0.2 in c:\\users\\rudy\\anaconda3\\lib\\site-packages (from requests<3,>=2.21.0->tensorboard~=2.6->tensorflow) (4.0.0)\n",
      "Requirement already satisfied: oauthlib>=3.0.0 in c:\\users\\rudy\\anaconda3\\lib\\site-packages (from requests-oauthlib>=0.7.0->google-auth-oauthlib<0.5,>=0.4.1->tensorboard~=2.6->tensorflow) (3.1.1)\n"
     ]
    }
   ],
   "source": [
    "!pip install tensorflow"
   ]
  },
  {
   "cell_type": "code",
   "execution_count": 631,
   "id": "96c9e502",
   "metadata": {},
   "outputs": [
    {
     "data": {
      "text/plain": [
       "(15997,)"
      ]
     },
     "execution_count": 631,
     "metadata": {},
     "output_type": "execute_result"
    }
   ],
   "source": [
    "x.shape"
   ]
  },
  {
   "cell_type": "code",
   "execution_count": 632,
   "id": "ba0b5b88",
   "metadata": {},
   "outputs": [
    {
     "data": {
      "text/plain": [
       "array([[7.62465753],\n",
       "       [1.33424658],\n",
       "       [2.30684932],\n",
       "       ...,\n",
       "       [4.80547945],\n",
       "       [6.5890411 ],\n",
       "       [6.53424658]])"
      ]
     },
     "execution_count": 632,
     "metadata": {},
     "output_type": "execute_result"
    }
   ],
   "source": [
    "x = dfRenamed['Age'].to_numpy()\n",
    "y = dfRenamed[\"Adopted\"].to_numpy()#CREATING ARRAY TO BE ABLE TO APPLY LOGISTIC REGRESSION\n",
    "x.reshape(-1,1)"
   ]
  },
  {
   "cell_type": "code",
   "execution_count": 633,
   "id": "6258e842",
   "metadata": {},
   "outputs": [
    {
     "data": {
      "image/png": "[encoded data removed]",
      "text/plain": [
       "<Figure size 432x288 with 1 Axes>"
      ]
     },
     "metadata": {
      "needs_background": "light"
     },
     "output_type": "display_data"
    }
   ],
   "source": [
    "plt.scatter(x, y, c=y, cmap='rainbow')\n",
    "plt.title('Scatter Plot of Logistic Regression')\n",
    "plt.show()"
   ]
  },
  {
   "cell_type": "code",
   "execution_count": 634,
   "id": "772ecd9f",
   "metadata": {},
   "outputs": [],
   "source": [
    "from sklearn.model_selection import train_test_split\n",
    "x_train, x_test, y_train, y_test = train_test_split(x, y, test_size=0.3, random_state=1)"
   ]
  },
  {
   "cell_type": "code",
   "execution_count": 635,
   "id": "5a8167d9",
   "metadata": {},
   "outputs": [],
   "source": [
    "#x_train, x_test, y_train, y_test = train_test_split(x, y, test_size=0.3, random_state=1)#take 70% of data and trained model with taht data and left 70% to see if it matches with 30 left over. "
   ]
  },
  {
   "cell_type": "code",
   "execution_count": 636,
   "id": "0ff3b93b",
   "metadata": {},
   "outputs": [],
   "source": [
    "#log_reg = LogisticRegression() #model log_reg\n",
    "#log_reg.fit(x_train, y_train)\n"
   ]
  },
  {
   "cell_type": "code",
   "execution_count": 637,
   "id": "70af7922",
   "metadata": {},
   "outputs": [],
   "source": [
    "from sklearn.linear_model import LogisticRegression\n",
    "logmodel_adoption=LogisticRegression()"
   ]
  },
  {
   "cell_type": "code",
   "execution_count": 638,
   "id": "3cf71f59",
   "metadata": {},
   "outputs": [
    {
     "data": {
      "text/plain": [
       "LogisticRegression()"
      ]
     },
     "execution_count": 638,
     "metadata": {},
     "output_type": "execute_result"
    }
   ],
   "source": [
    "#Fit the model using the training dataset\n",
    "logmodel_adoption.fit(x_train.reshape(-1,1), y_train)\n",
    "#logmodel_adoption.fit(x_train, y_train)USE THIS ONE FOR MULTIPLE VARIABLE"
   ]
  },
  {
   "cell_type": "code",
   "execution_count": 639,
   "id": "7ca36758",
   "metadata": {},
   "outputs": [
    {
     "data": {
      "text/plain": [
       "array([1, 0, 0, ..., 0, 0, 0], dtype=int32)"
      ]
     },
     "execution_count": 639,
     "metadata": {},
     "output_type": "execute_result"
    }
   ],
   "source": [
    "predictions = logmodel_adoption.predict(x_test.reshape(-1,1))\n",
    "predictions\n"
   ]
  },
  {
   "cell_type": "code",
   "execution_count": 640,
   "id": "e1ea8b7a",
   "metadata": {},
   "outputs": [],
   "source": [
    "#predictions = log_reg.predict(x_test.reshape(-1,1))#test is the data that was not used\n",
    "#predictions"
   ]
  },
  {
   "cell_type": "code",
   "execution_count": 641,
   "id": "d71d5dca",
   "metadata": {},
   "outputs": [
    {
     "data": {
      "text/plain": [
       "array([0, 0, 0, ..., 0, 0, 0], dtype=int32)"
      ]
     },
     "execution_count": 641,
     "metadata": {},
     "output_type": "execute_result"
    }
   ],
   "source": [
    "y_test"
   ]
  },
  {
   "cell_type": "code",
   "execution_count": 642,
   "id": "b7947771",
   "metadata": {},
   "outputs": [
    {
     "name": "stdout",
     "output_type": "stream",
     "text": [
      "Classification Report \n",
      "                precision    recall  f1-score   support\n",
      "\n",
      "           0       0.63      0.85      0.72      2949\n",
      "           1       0.47      0.22      0.30      1851\n",
      "\n",
      "    accuracy                           0.60      4800\n",
      "   macro avg       0.55      0.53      0.51      4800\n",
      "weighted avg       0.57      0.60      0.56      4800\n",
      "\n"
     ]
    }
   ],
   "source": [
    "print(\"Classification Report \\n \", classification_report(y_test, predictions))"
   ]
  },
  {
   "cell_type": "code",
   "execution_count": 643,
   "id": "91a33d24",
   "metadata": {},
   "outputs": [
    {
     "data": {
      "image/png": "[encoded data removed]",
      "text/plain": [
       "<Figure size 432x288 with 2 Axes>"
      ]
     },
     "metadata": {
      "needs_background": "light"
     },
     "output_type": "display_data"
    }
   ],
   "source": [
    "# Confusion Matrix: how accurate our outcomes are: Predicted \"No\" and Predicted \"Yes\"  on the top  Row and the column is Actual \"No\" and Actual \"Yes\"\n",
    "from sklearn.metrics import confusion_matrix\n",
    "cm = confusion_matrix(y_test, predictions)\n",
    "cm\n",
    "from sklearn.metrics import confusion_matrix, ConfusionMatrixDisplay\n",
    "\n",
    "from sklearn.svm import SVC\n",
    "\n",
    "disp = ConfusionMatrixDisplay(confusion_matrix=cm, display_labels=logmodel_adoption.classes_)\n",
    "disp.plot()\n",
    "\n",
    "plt.show()"
   ]
  },
  {
   "cell_type": "code",
   "execution_count": 644,
   "id": "53616f2d",
   "metadata": {},
   "outputs": [
    {
     "name": "stderr",
     "output_type": "stream",
     "text": [
      "C:\\Users\\Rudy\\anaconda3\\lib\\site-packages\\seaborn\\distributions.py:2557: FutureWarning: `distplot` is a deprecated function and will be removed in a future version. Please adapt your code to use either `displot` (a figure-level function with similar flexibility) or `histplot` (an axes-level function for histograms).\n",
      "  warnings.warn(msg, FutureWarning)\n"
     ]
    },
    {
     "data": {
      "text/plain": [
       "<AxesSubplot:xlabel='Days in Shelter', ylabel='Density'>"
      ]
     },
     "execution_count": 644,
     "metadata": {},
     "output_type": "execute_result"
    },
    {
     "data": {
      "image/png": "[encoded data removed]",
      "text/plain": [
       "<Figure size 1080x1080 with 1 Axes>"
      ]
     },
     "metadata": {
      "needs_background": "light"
     },
     "output_type": "display_data"
    }
   ],
   "source": [
    "dfSeparated = dfRenamed.loc[(dfRenamed['Days in Shelter'] >= 1)\n",
    "                     & (dfRenamed['Days in Shelter'] <= 250)]\n",
    "plt.figure(figsize=(15,15))\n",
    "plt.tight_layout()\n",
    "seabornInstance.distplot(dfSeparated['Days in Shelter'])"
   ]
  },
  {
   "cell_type": "code",
   "execution_count": 645,
   "id": "069b46f6",
   "metadata": {},
   "outputs": [
    {
     "name": "stdout",
     "output_type": "stream",
     "text": [
      "Recall: 0.22\n"
     ]
    }
   ],
   "source": [
    "\n",
    "from sklearn.metrics import recall_score\n",
    "\n",
    "print(\"Recall:\", round(recall_score(y_test, predictions), 2))\n"
   ]
  },
  {
   "cell_type": "code",
   "execution_count": 646,
   "id": "4e27d7cd",
   "metadata": {},
   "outputs": [
    {
     "data": {
      "text/plain": [
       "0.6041666666666666"
      ]
     },
     "execution_count": 646,
     "metadata": {},
     "output_type": "execute_result"
    }
   ],
   "source": [
    "from sklearn.metrics import accuracy_score\n",
    "accuracy_score(y_test, predictions)"
   ]
  },
  {
   "cell_type": "code",
   "execution_count": 647,
   "id": "96f4fc47",
   "metadata": {},
   "outputs": [
    {
     "data": {
      "image/png": "[encoded data removed]",
      "text/plain": [
       "<Figure size 432x288 with 1 Axes>"
      ]
     },
     "metadata": {
      "needs_background": "light"
     },
     "output_type": "display_data"
    }
   ],
   "source": [
    "plt.scatter(x_test.reshape(-1,1), logmodel_adoption.predict_proba(x_test.reshape(-1,1))[:,1])\n",
    "#plt.axhline(y=0.5, color='r', linestyle='-')\n",
    "plt.show()"
   ]
  },
  {
   "cell_type": "code",
   "execution_count": 659,
   "id": "e9497243",
   "metadata": {},
   "outputs": [
    {
     "ename": "ValueError",
     "evalue": "x and y must be the same size",
     "output_type": "error",
     "traceback": [
      "\u001b[1;31m---------------------------------------------------------------------------\u001b[0m",
      "\u001b[1;31mValueError\u001b[0m                                Traceback (most recent call last)",
      "\u001b[1;32m<ipython-input-659-911edce24d12>\u001b[0m in \u001b[0;36m<module>\u001b[1;34m\u001b[0m\n\u001b[1;32m----> 1\u001b[1;33m \u001b[0mplt\u001b[0m\u001b[1;33m.\u001b[0m\u001b[0mscatter\u001b[0m\u001b[1;33m(\u001b[0m\u001b[0mx\u001b[0m\u001b[1;33m,\u001b[0m \u001b[0my\u001b[0m\u001b[1;33m,\u001b[0m \u001b[0mc\u001b[0m\u001b[1;33m=\u001b[0m\u001b[0my\u001b[0m\u001b[1;33m,\u001b[0m \u001b[0mcmap\u001b[0m\u001b[1;33m=\u001b[0m\u001b[1;34m'rainbow'\u001b[0m\u001b[1;33m)\u001b[0m\u001b[1;33m\u001b[0m\u001b[1;33m\u001b[0m\u001b[0m\n\u001b[0m\u001b[0;32m      2\u001b[0m \u001b[0mplt\u001b[0m\u001b[1;33m.\u001b[0m\u001b[0mscatter\u001b[0m\u001b[1;33m(\u001b[0m\u001b[0mx_test\u001b[0m\u001b[1;33m.\u001b[0m\u001b[0mreshape\u001b[0m\u001b[1;33m(\u001b[0m\u001b[1;33m-\u001b[0m\u001b[1;36m1\u001b[0m\u001b[1;33m,\u001b[0m\u001b[1;36m1\u001b[0m\u001b[1;33m)\u001b[0m\u001b[1;33m,\u001b[0m \u001b[0mlogmodel_adoption\u001b[0m\u001b[1;33m.\u001b[0m\u001b[0mpredict_proba\u001b[0m\u001b[1;33m(\u001b[0m\u001b[0mx_test\u001b[0m\u001b[1;33m.\u001b[0m\u001b[0mreshape\u001b[0m\u001b[1;33m(\u001b[0m\u001b[1;33m-\u001b[0m\u001b[1;36m1\u001b[0m\u001b[1;33m,\u001b[0m\u001b[1;36m1\u001b[0m\u001b[1;33m)\u001b[0m\u001b[1;33m)\u001b[0m\u001b[1;33m[\u001b[0m\u001b[1;33m:\u001b[0m\u001b[1;33m,\u001b[0m\u001b[1;36m1\u001b[0m\u001b[1;33m]\u001b[0m\u001b[1;33m)\u001b[0m\u001b[1;33m\u001b[0m\u001b[1;33m\u001b[0m\u001b[0m\n\u001b[0;32m      3\u001b[0m \u001b[0mplt\u001b[0m\u001b[1;33m.\u001b[0m\u001b[0mtitle\u001b[0m\u001b[1;33m(\u001b[0m\u001b[1;34m'Scatter Plot of Logistic Regression'\u001b[0m\u001b[1;33m)\u001b[0m\u001b[1;33m\u001b[0m\u001b[1;33m\u001b[0m\u001b[0m\n\u001b[0;32m      4\u001b[0m \u001b[0mplt\u001b[0m\u001b[1;33m.\u001b[0m\u001b[0mshow\u001b[0m\u001b[1;33m(\u001b[0m\u001b[1;33m)\u001b[0m\u001b[1;33m\u001b[0m\u001b[1;33m\u001b[0m\u001b[0m\n",
      "\u001b[1;32m~\\anaconda3\\lib\\site-packages\\matplotlib\\pyplot.py\u001b[0m in \u001b[0;36mscatter\u001b[1;34m(x, y, s, c, marker, cmap, norm, vmin, vmax, alpha, linewidths, verts, edgecolors, plotnonfinite, data, **kwargs)\u001b[0m\n\u001b[0;32m   2888\u001b[0m         \u001b[0mverts\u001b[0m\u001b[1;33m=\u001b[0m\u001b[0mcbook\u001b[0m\u001b[1;33m.\u001b[0m\u001b[0mdeprecation\u001b[0m\u001b[1;33m.\u001b[0m\u001b[0m_deprecated_parameter\u001b[0m\u001b[1;33m,\u001b[0m\u001b[1;33m\u001b[0m\u001b[1;33m\u001b[0m\u001b[0m\n\u001b[0;32m   2889\u001b[0m         edgecolors=None, *, plotnonfinite=False, data=None, **kwargs):\n\u001b[1;32m-> 2890\u001b[1;33m     __ret = gca().scatter(\n\u001b[0m\u001b[0;32m   2891\u001b[0m         \u001b[0mx\u001b[0m\u001b[1;33m,\u001b[0m \u001b[0my\u001b[0m\u001b[1;33m,\u001b[0m \u001b[0ms\u001b[0m\u001b[1;33m=\u001b[0m\u001b[0ms\u001b[0m\u001b[1;33m,\u001b[0m \u001b[0mc\u001b[0m\u001b[1;33m=\u001b[0m\u001b[0mc\u001b[0m\u001b[1;33m,\u001b[0m \u001b[0mmarker\u001b[0m\u001b[1;33m=\u001b[0m\u001b[0mmarker\u001b[0m\u001b[1;33m,\u001b[0m \u001b[0mcmap\u001b[0m\u001b[1;33m=\u001b[0m\u001b[0mcmap\u001b[0m\u001b[1;33m,\u001b[0m \u001b[0mnorm\u001b[0m\u001b[1;33m=\u001b[0m\u001b[0mnorm\u001b[0m\u001b[1;33m,\u001b[0m\u001b[1;33m\u001b[0m\u001b[1;33m\u001b[0m\u001b[0m\n\u001b[0;32m   2892\u001b[0m         \u001b[0mvmin\u001b[0m\u001b[1;33m=\u001b[0m\u001b[0mvmin\u001b[0m\u001b[1;33m,\u001b[0m \u001b[0mvmax\u001b[0m\u001b[1;33m=\u001b[0m\u001b[0mvmax\u001b[0m\u001b[1;33m,\u001b[0m \u001b[0malpha\u001b[0m\u001b[1;33m=\u001b[0m\u001b[0malpha\u001b[0m\u001b[1;33m,\u001b[0m \u001b[0mlinewidths\u001b[0m\u001b[1;33m=\u001b[0m\u001b[0mlinewidths\u001b[0m\u001b[1;33m,\u001b[0m\u001b[1;33m\u001b[0m\u001b[1;33m\u001b[0m\u001b[0m\n",
      "\u001b[1;32m~\\anaconda3\\lib\\site-packages\\matplotlib\\__init__.py\u001b[0m in \u001b[0;36minner\u001b[1;34m(ax, data, *args, **kwargs)\u001b[0m\n\u001b[0;32m   1445\u001b[0m     \u001b[1;32mdef\u001b[0m \u001b[0minner\u001b[0m\u001b[1;33m(\u001b[0m\u001b[0max\u001b[0m\u001b[1;33m,\u001b[0m \u001b[1;33m*\u001b[0m\u001b[0margs\u001b[0m\u001b[1;33m,\u001b[0m \u001b[0mdata\u001b[0m\u001b[1;33m=\u001b[0m\u001b[1;32mNone\u001b[0m\u001b[1;33m,\u001b[0m \u001b[1;33m**\u001b[0m\u001b[0mkwargs\u001b[0m\u001b[1;33m)\u001b[0m\u001b[1;33m:\u001b[0m\u001b[1;33m\u001b[0m\u001b[1;33m\u001b[0m\u001b[0m\n\u001b[0;32m   1446\u001b[0m         \u001b[1;32mif\u001b[0m \u001b[0mdata\u001b[0m \u001b[1;32mis\u001b[0m \u001b[1;32mNone\u001b[0m\u001b[1;33m:\u001b[0m\u001b[1;33m\u001b[0m\u001b[1;33m\u001b[0m\u001b[0m\n\u001b[1;32m-> 1447\u001b[1;33m             \u001b[1;32mreturn\u001b[0m \u001b[0mfunc\u001b[0m\u001b[1;33m(\u001b[0m\u001b[0max\u001b[0m\u001b[1;33m,\u001b[0m \u001b[1;33m*\u001b[0m\u001b[0mmap\u001b[0m\u001b[1;33m(\u001b[0m\u001b[0msanitize_sequence\u001b[0m\u001b[1;33m,\u001b[0m \u001b[0margs\u001b[0m\u001b[1;33m)\u001b[0m\u001b[1;33m,\u001b[0m \u001b[1;33m**\u001b[0m\u001b[0mkwargs\u001b[0m\u001b[1;33m)\u001b[0m\u001b[1;33m\u001b[0m\u001b[1;33m\u001b[0m\u001b[0m\n\u001b[0m\u001b[0;32m   1448\u001b[0m \u001b[1;33m\u001b[0m\u001b[0m\n\u001b[0;32m   1449\u001b[0m         \u001b[0mbound\u001b[0m \u001b[1;33m=\u001b[0m \u001b[0mnew_sig\u001b[0m\u001b[1;33m.\u001b[0m\u001b[0mbind\u001b[0m\u001b[1;33m(\u001b[0m\u001b[0max\u001b[0m\u001b[1;33m,\u001b[0m \u001b[1;33m*\u001b[0m\u001b[0margs\u001b[0m\u001b[1;33m,\u001b[0m \u001b[1;33m**\u001b[0m\u001b[0mkwargs\u001b[0m\u001b[1;33m)\u001b[0m\u001b[1;33m\u001b[0m\u001b[1;33m\u001b[0m\u001b[0m\n",
      "\u001b[1;32m~\\anaconda3\\lib\\site-packages\\matplotlib\\cbook\\deprecation.py\u001b[0m in \u001b[0;36mwrapper\u001b[1;34m(*inner_args, **inner_kwargs)\u001b[0m\n\u001b[0;32m    409\u001b[0m                          \u001b[1;32melse\u001b[0m \u001b[0mdeprecation_addendum\u001b[0m\u001b[1;33m,\u001b[0m\u001b[1;33m\u001b[0m\u001b[1;33m\u001b[0m\u001b[0m\n\u001b[0;32m    410\u001b[0m                 **kwargs)\n\u001b[1;32m--> 411\u001b[1;33m         \u001b[1;32mreturn\u001b[0m \u001b[0mfunc\u001b[0m\u001b[1;33m(\u001b[0m\u001b[1;33m*\u001b[0m\u001b[0minner_args\u001b[0m\u001b[1;33m,\u001b[0m \u001b[1;33m**\u001b[0m\u001b[0minner_kwargs\u001b[0m\u001b[1;33m)\u001b[0m\u001b[1;33m\u001b[0m\u001b[1;33m\u001b[0m\u001b[0m\n\u001b[0m\u001b[0;32m    412\u001b[0m \u001b[1;33m\u001b[0m\u001b[0m\n\u001b[0;32m    413\u001b[0m     \u001b[1;32mreturn\u001b[0m \u001b[0mwrapper\u001b[0m\u001b[1;33m\u001b[0m\u001b[1;33m\u001b[0m\u001b[0m\n",
      "\u001b[1;32m~\\anaconda3\\lib\\site-packages\\matplotlib\\axes\\_axes.py\u001b[0m in \u001b[0;36mscatter\u001b[1;34m(self, x, y, s, c, marker, cmap, norm, vmin, vmax, alpha, linewidths, verts, edgecolors, plotnonfinite, **kwargs)\u001b[0m\n\u001b[0;32m   4439\u001b[0m         \u001b[0my\u001b[0m \u001b[1;33m=\u001b[0m \u001b[0mnp\u001b[0m\u001b[1;33m.\u001b[0m\u001b[0mma\u001b[0m\u001b[1;33m.\u001b[0m\u001b[0mravel\u001b[0m\u001b[1;33m(\u001b[0m\u001b[0my\u001b[0m\u001b[1;33m)\u001b[0m\u001b[1;33m\u001b[0m\u001b[1;33m\u001b[0m\u001b[0m\n\u001b[0;32m   4440\u001b[0m         \u001b[1;32mif\u001b[0m \u001b[0mx\u001b[0m\u001b[1;33m.\u001b[0m\u001b[0msize\u001b[0m \u001b[1;33m!=\u001b[0m \u001b[0my\u001b[0m\u001b[1;33m.\u001b[0m\u001b[0msize\u001b[0m\u001b[1;33m:\u001b[0m\u001b[1;33m\u001b[0m\u001b[1;33m\u001b[0m\u001b[0m\n\u001b[1;32m-> 4441\u001b[1;33m             \u001b[1;32mraise\u001b[0m \u001b[0mValueError\u001b[0m\u001b[1;33m(\u001b[0m\u001b[1;34m\"x and y must be the same size\"\u001b[0m\u001b[1;33m)\u001b[0m\u001b[1;33m\u001b[0m\u001b[1;33m\u001b[0m\u001b[0m\n\u001b[0m\u001b[0;32m   4442\u001b[0m \u001b[1;33m\u001b[0m\u001b[0m\n\u001b[0;32m   4443\u001b[0m         \u001b[1;32mif\u001b[0m \u001b[0ms\u001b[0m \u001b[1;32mis\u001b[0m \u001b[1;32mNone\u001b[0m\u001b[1;33m:\u001b[0m\u001b[1;33m\u001b[0m\u001b[1;33m\u001b[0m\u001b[0m\n",
      "\u001b[1;31mValueError\u001b[0m: x and y must be the same size"
     ]
    },
    {
     "data": {
      "image/png": "[encoded data removed]",
      "text/plain": [
       "<Figure size 432x288 with 1 Axes>"
      ]
     },
     "metadata": {
      "needs_background": "light"
     },
     "output_type": "display_data"
    }
   ],
   "source": [
    "color_y = []\n",
    "x_val = []\n",
    "y_val =[]\n",
    "for i, j in enumerate(y):\n",
    "    if(j == 0):\n",
    "        color_y+=['r']\n",
    "    else:\n",
    "        color_y+=['b']\n",
    "    x_val+=[j[i], j[i]]\n",
    "    y_val+=j\n",
    "#color_adopt = ['b' if adopt[i] == 1] = [[0] for i in adopt]\n",
    "\n",
    "plt.scatter(x, y, color=color_y)\n",
    "plt.scatter(x_test.reshape(-1,1), logmodel_adoption.predict_proba(x_test.reshape(-1,1))[:,1])\n",
    "plt.show()"
   ]
  },
  {
   "cell_type": "code",
   "execution_count": 660,
   "id": "507ed623",
   "metadata": {},
   "outputs": [
    {
     "data": {
      "text/plain": [
       "(11197, 2)"
      ]
     },
     "execution_count": 660,
     "metadata": {},
     "output_type": "execute_result"
    }
   ],
   "source": [
    "probabilitiesArray = logmodel_adoption.predict_proba(x_train.reshape(-1,1)).shape\n",
    "probabilitiesArray"
   ]
  },
  {
   "cell_type": "code",
   "execution_count": null,
   "id": "19ba9259",
   "metadata": {},
   "outputs": [],
   "source": []
  },
  {
   "cell_type": "code",
   "execution_count": 666,
   "id": "4db77843",
   "metadata": {},
   "outputs": [
    {
     "data": {
      "text/plain": [
       "array([[7.62465753],\n",
       "       [1.33424658],\n",
       "       [2.30684932],\n",
       "       ...,\n",
       "       [4.80547945],\n",
       "       [6.5890411 ],\n",
       "       [6.53424658]])"
      ]
     },
     "execution_count": 666,
     "metadata": {},
     "output_type": "execute_result"
    }
   ],
   "source": [
    "x = np.array(dfRenamed[\"Age\"])\n",
    "y = np.array(dfRenamed[\"Adopted\"])\n",
    "x.reshape(-1,1)"
   ]
  },
  {
   "cell_type": "code",
   "execution_count": 667,
   "id": "b870e24c",
   "metadata": {},
   "outputs": [
    {
     "data": {
      "image/png": "[encoded data removed]",
      "text/plain": [
       "<Figure size 432x288 with 1 Axes>"
      ]
     },
     "metadata": {
      "needs_background": "light"
     },
     "output_type": "display_data"
    }
   ],
   "source": [
    "color_y = []\n",
    "x_val = []\n",
    "y_val =[]\n",
    "for i, j in enumerate(y):\n",
    "    if(j == 0):\n",
    "        color_y+=['r']\n",
    "    else:\n",
    "        color_y+=['b']\n",
    "    x_val+=[x[i], x[i]]\n",
    "    adopt_val+=j\n",
    "#color_adopt = ['b' if adopt[i] == 1] = [[0] for i in adopt]\n",
    "\n",
    "plt.scatter(x, y, color=color_y)\n",
    "plt.scatter(x_test.reshape(-1,1), logmodel_adoption.predict_proba(x_test.reshape(-1,1))[:,1])\n",
    "plt.show()"
   ]
  },
  {
   "cell_type": "code",
   "execution_count": null,
   "id": "d7387f64",
   "metadata": {},
   "outputs": [],
   "source": [
    "FROM HERE WE ARE TRYING TO USE MULTIVARIABLE"
   ]
  },
  {
   "cell_type": "code",
   "execution_count": 682,
   "id": "e5d3e6b5",
   "metadata": {},
   "outputs": [
    {
     "data": {
      "text/plain": [
       "array([[ 7.62465753],\n",
       "       [24.        ],\n",
       "       [ 3.        ],\n",
       "       ...,\n",
       "       [ 6.53424658],\n",
       "       [ 3.        ],\n",
       "       [49.        ]])"
      ]
     },
     "execution_count": 682,
     "metadata": {},
     "output_type": "execute_result"
    }
   ],
   "source": [
    "x3 = dfRenamed[['Age', 'Size', \"Days in Shelter\"]].to_numpy()\n",
    "y3 = dfRenamed[\"Adopted\"].to_numpy()#CREATING ARRAY TO BE ABLE TO APPLY LOGISTIC REGRESSION\n",
    "x3.reshape(-1,1)"
   ]
  },
  {
   "cell_type": "code",
   "execution_count": 683,
   "id": "8f20c86e",
   "metadata": {},
   "outputs": [],
   "source": [
    "from sklearn.model_selection import train_test_split\n",
    "x3_train, x3_test, y3_train, y3_test = train_test_split(x3, y3, test_size=0.3, random_state=1)"
   ]
  },
  {
   "cell_type": "code",
   "execution_count": 684,
   "id": "94d4c519",
   "metadata": {},
   "outputs": [],
   "source": [
    "from sklearn.linear_model import LogisticRegression\n",
    "logmodel_adoption=LogisticRegression()"
   ]
  },
  {
   "cell_type": "code",
   "execution_count": 685,
   "id": "9045aaad",
   "metadata": {},
   "outputs": [
    {
     "data": {
      "text/plain": [
       "(11197, 3)"
      ]
     },
     "execution_count": 685,
     "metadata": {},
     "output_type": "execute_result"
    }
   ],
   "source": [
    "x3_train.shape"
   ]
  },
  {
   "cell_type": "code",
   "execution_count": 690,
   "id": "ed4248dc",
   "metadata": {},
   "outputs": [
    {
     "data": {
      "text/plain": [
       "(11197,)"
      ]
     },
     "execution_count": 690,
     "metadata": {},
     "output_type": "execute_result"
    }
   ],
   "source": [
    "y3a = y3_train\n",
    "y3a.shape"
   ]
  },
  {
   "cell_type": "code",
   "execution_count": 694,
   "id": "3a5f517f",
   "metadata": {},
   "outputs": [],
   "source": [
    "logmodel_adoption_multi1 = LogisticRegression(random_state=0, multi_class='multinomial', penalty='none', solver='newton-cg').fit(x3_train, y3a)"
   ]
  },
  {
   "cell_type": "code",
   "execution_count": 695,
   "id": "54b86dca",
   "metadata": {},
   "outputs": [
    {
     "data": {
      "text/plain": [
       "LogisticRegression(multi_class='multinomial', penalty='none', random_state=0,\n",
       "                   solver='newton-cg')"
      ]
     },
     "execution_count": 695,
     "metadata": {},
     "output_type": "execute_result"
    }
   ],
   "source": [
    "logmodel_adoption_multi1.fit(x3_train, y3a)"
   ]
  },
  {
   "cell_type": "code",
   "execution_count": 697,
   "id": "3dd44faf",
   "metadata": {},
   "outputs": [
    {
     "name": "stdout",
     "output_type": "stream",
     "text": [
      "Intercept: \n",
      " [0.13237282]\n",
      "Coefficients: \n",
      " [[-0.04516815 -0.01761028  0.01820753]]\n"
     ]
    }
   ],
   "source": [
    "print('Intercept: \\n', logmodel_adoption_multi1.intercept_)\n",
    "print('Coefficients: \\n', logmodel_adoption_multi1.coef_)"
   ]
  },
  {
   "cell_type": "code",
   "execution_count": 701,
   "id": "5980835f",
   "metadata": {},
   "outputs": [
    {
     "data": {
      "image/png": "[encoded data removed]",
      "text/plain": [
       "<Figure size 432x288 with 2 Axes>"
      ]
     },
     "metadata": {
      "needs_background": "light"
     },
     "output_type": "display_data"
    }
   ],
   "source": [
    "# Confusion Matrix: how accurate our outcomes are: Predicted \"No\" and Predicted \"Yes\"  on the top  Row and the column is Actual \"No\" and Actual \"Yes\"\n",
    "from sklearn.metrics import confusion_matrix\n",
    "cm = confusion_matrix(y3_test, logmodel_adoption_multi1.predict(x3_test))\n",
    "cm\n",
    "from sklearn.metrics import confusion_matrix, ConfusionMatrixDisplay\n",
    "\n",
    "from sklearn.svm import SVC\n",
    "\n",
    "disp = ConfusionMatrixDisplay(confusion_matrix=cm, display_labels=logmodel_adoption_multi1.classes_)\n",
    "disp.plot()\n",
    "\n",
    "plt.show()"
   ]
  },
  {
   "cell_type": "code",
   "execution_count": 702,
   "id": "0886e302",
   "metadata": {},
   "outputs": [
    {
     "name": "stdout",
     "output_type": "stream",
     "text": [
      "Recall: 0.57\n"
     ]
    }
   ],
   "source": [
    "print(\"Recall:\", round(recall_score(y3_test, logmodel_adoption_multi1.predict(x3_test)), 2))"
   ]
  },
  {
   "cell_type": "code",
   "execution_count": 703,
   "id": "cf4dab9f",
   "metadata": {},
   "outputs": [
    {
     "data": {
      "text/plain": [
       "0.7545833333333334"
      ]
     },
     "execution_count": 703,
     "metadata": {},
     "output_type": "execute_result"
    }
   ],
   "source": [
    "accuracy_score(y3_test, logmodel_adoption_multi1.predict(x3_test))"
   ]
  },
  {
   "cell_type": "code",
   "execution_count": 705,
   "id": "82cb5e86",
   "metadata": {},
   "outputs": [
    {
     "data": {
      "text/plain": [
       "Index(['Unnamed: 0', 'Name', 'Named by Shelter', 'Type', 'Breed', 'Color',\n",
       "       'Sex', 'Protected', 'Size', 'Date Of Birth', 'Impound Number',\n",
       "       'Kennel Number', 'Animal ID', 'Intake Date', 'Outcome Date',\n",
       "       'Days in Shelter', 'Intake Type', 'Intake Subtype', 'Outcome Type',\n",
       "       'Outcome Subtype', 'Intake Condition', 'Outcome Condition',\n",
       "       'Intake Jurisdiction', 'Outcome Jurisdiction', 'Outcome Zip Code',\n",
       "       'Location', 'Count', 'Age', 'Before Covid'],\n",
       "      dtype='object')"
      ]
     },
     "execution_count": 705,
     "metadata": {},
     "output_type": "execute_result"
    }
   ],
   "source": [
    "df.columns"
   ]
  },
  {
   "cell_type": "code",
   "execution_count": 716,
   "id": "6d9536b8",
   "metadata": {},
   "outputs": [],
   "source": [
    "selected_columns = df[[\"Type\",\"Size\",\"Date Of Birth\",\"Outcome Date\",\"Days in Shelter\", \"Outcome Type\"]]"
   ]
  },
  {
   "cell_type": "code",
   "execution_count": 717,
   "id": "515375d8",
   "metadata": {},
   "outputs": [],
   "source": [
    "dfUsed = selected_columns.copy()"
   ]
  },
  {
   "cell_type": "code",
   "execution_count": 718,
   "id": "191eef8e",
   "metadata": {},
   "outputs": [
    {
     "data": {
      "text/html": [
       "<div>\n",
       "<style scoped>\n",
       "    .dataframe tbody tr th:only-of-type {\n",
       "        vertical-align: middle;\n",
       "    }\n",
       "\n",
       "    .dataframe tbody tr th {\n",
       "        vertical-align: top;\n",
       "    }\n",
       "\n",
       "    .dataframe thead th {\n",
       "        text-align: right;\n",
       "    }\n",
       "</style>\n",
       "<table border=\"1\" class=\"dataframe\">\n",
       "  <thead>\n",
       "    <tr style=\"text-align: right;\">\n",
       "      <th></th>\n",
       "      <th>Type</th>\n",
       "      <th>Size</th>\n",
       "      <th>Date Of Birth</th>\n",
       "      <th>Outcome Date</th>\n",
       "      <th>Days in Shelter</th>\n",
       "      <th>Outcome Type</th>\n",
       "    </tr>\n",
       "  </thead>\n",
       "  <tbody>\n",
       "    <tr>\n",
       "      <th>0</th>\n",
       "      <td>DOG</td>\n",
       "      <td>24.0</td>\n",
       "      <td>2014-04-11</td>\n",
       "      <td>2021-09-11</td>\n",
       "      <td>3</td>\n",
       "      <td>RETURN TO OWNER</td>\n",
       "    </tr>\n",
       "    <tr>\n",
       "      <th>1</th>\n",
       "      <td>DOG</td>\n",
       "      <td>12.0</td>\n",
       "      <td>2020-07-24</td>\n",
       "      <td>2021-09-11</td>\n",
       "      <td>49</td>\n",
       "      <td>ADOPTION</td>\n",
       "    </tr>\n",
       "    <tr>\n",
       "      <th>2</th>\n",
       "      <td>CAT</td>\n",
       "      <td>12.0</td>\n",
       "      <td>2019-08-04</td>\n",
       "      <td>2021-09-11</td>\n",
       "      <td>38</td>\n",
       "      <td>ADOPTION</td>\n",
       "    </tr>\n",
       "    <tr>\n",
       "      <th>3</th>\n",
       "      <td>CAT</td>\n",
       "      <td>3.0</td>\n",
       "      <td>2020-10-27</td>\n",
       "      <td>2021-02-05</td>\n",
       "      <td>6</td>\n",
       "      <td>ADOPTION</td>\n",
       "    </tr>\n",
       "    <tr>\n",
       "      <th>4</th>\n",
       "      <td>CAT</td>\n",
       "      <td>12.0</td>\n",
       "      <td>2018-01-16</td>\n",
       "      <td>2021-02-05</td>\n",
       "      <td>20</td>\n",
       "      <td>ADOPTION</td>\n",
       "    </tr>\n",
       "    <tr>\n",
       "      <th>...</th>\n",
       "      <td>...</td>\n",
       "      <td>...</td>\n",
       "      <td>...</td>\n",
       "      <td>...</td>\n",
       "      <td>...</td>\n",
       "      <td>...</td>\n",
       "    </tr>\n",
       "    <tr>\n",
       "      <th>20171</th>\n",
       "      <td>CAT</td>\n",
       "      <td>12.0</td>\n",
       "      <td>NaT</td>\n",
       "      <td>2019-03-21</td>\n",
       "      <td>0</td>\n",
       "      <td>EUTHANIZE</td>\n",
       "    </tr>\n",
       "    <tr>\n",
       "      <th>20172</th>\n",
       "      <td>CAT</td>\n",
       "      <td>3.0</td>\n",
       "      <td>NaT</td>\n",
       "      <td>2018-03-27</td>\n",
       "      <td>0</td>\n",
       "      <td>TRANSFER</td>\n",
       "    </tr>\n",
       "    <tr>\n",
       "      <th>20173</th>\n",
       "      <td>DOG</td>\n",
       "      <td>5.0</td>\n",
       "      <td>2017-02-03</td>\n",
       "      <td>2018-02-16</td>\n",
       "      <td>13</td>\n",
       "      <td>TRANSFER</td>\n",
       "    </tr>\n",
       "    <tr>\n",
       "      <th>20174</th>\n",
       "      <td>DOG</td>\n",
       "      <td>5.0</td>\n",
       "      <td>2015-04-24</td>\n",
       "      <td>2017-04-08</td>\n",
       "      <td>16</td>\n",
       "      <td>ADOPTION</td>\n",
       "    </tr>\n",
       "    <tr>\n",
       "      <th>20175</th>\n",
       "      <td>CAT</td>\n",
       "      <td>3.0</td>\n",
       "      <td>2015-05-14</td>\n",
       "      <td>2015-09-01</td>\n",
       "      <td>49</td>\n",
       "      <td>DISPOSAL</td>\n",
       "    </tr>\n",
       "  </tbody>\n",
       "</table>\n",
       "<p>20176 rows × 6 columns</p>\n",
       "</div>"
      ],
      "text/plain": [
       "      Type  Size Date Of Birth Outcome Date  Days in Shelter     Outcome Type\n",
       "0      DOG  24.0    2014-04-11   2021-09-11                3  RETURN TO OWNER\n",
       "1      DOG  12.0    2020-07-24   2021-09-11               49         ADOPTION\n",
       "2      CAT  12.0    2019-08-04   2021-09-11               38         ADOPTION\n",
       "3      CAT   3.0    2020-10-27   2021-02-05                6         ADOPTION\n",
       "4      CAT  12.0    2018-01-16   2021-02-05               20         ADOPTION\n",
       "...    ...   ...           ...          ...              ...              ...\n",
       "20171  CAT  12.0           NaT   2019-03-21                0        EUTHANIZE\n",
       "20172  CAT   3.0           NaT   2018-03-27                0         TRANSFER\n",
       "20173  DOG   5.0    2017-02-03   2018-02-16               13         TRANSFER\n",
       "20174  DOG   5.0    2015-04-24   2017-04-08               16         ADOPTION\n",
       "20175  CAT   3.0    2015-05-14   2015-09-01               49         DISPOSAL\n",
       "\n",
       "[20176 rows x 6 columns]"
      ]
     },
     "execution_count": 718,
     "metadata": {},
     "output_type": "execute_result"
    }
   ],
   "source": [
    "dfUsed"
   ]
  },
  {
   "cell_type": "code",
   "execution_count": 715,
   "id": "3c57fed1",
   "metadata": {},
   "outputs": [
    {
     "data": {
      "text/html": [
       "<div>\n",
       "<style scoped>\n",
       "    .dataframe tbody tr th:only-of-type {\n",
       "        vertical-align: middle;\n",
       "    }\n",
       "\n",
       "    .dataframe tbody tr th {\n",
       "        vertical-align: top;\n",
       "    }\n",
       "\n",
       "    .dataframe thead th {\n",
       "        text-align: right;\n",
       "    }\n",
       "</style>\n",
       "<table border=\"1\" class=\"dataframe\">\n",
       "  <thead>\n",
       "    <tr style=\"text-align: right;\">\n",
       "      <th></th>\n",
       "      <th>Age</th>\n",
       "      <th>Size</th>\n",
       "      <th>Days in Shelter</th>\n",
       "      <th>Outcome Type</th>\n",
       "    </tr>\n",
       "  </thead>\n",
       "  <tbody>\n",
       "    <tr>\n",
       "      <th>0</th>\n",
       "      <td>7.624658</td>\n",
       "      <td>24.0</td>\n",
       "      <td>3</td>\n",
       "      <td>0</td>\n",
       "    </tr>\n",
       "    <tr>\n",
       "      <th>1</th>\n",
       "      <td>1.334247</td>\n",
       "      <td>12.0</td>\n",
       "      <td>49</td>\n",
       "      <td>1</td>\n",
       "    </tr>\n",
       "    <tr>\n",
       "      <th>2</th>\n",
       "      <td>2.306849</td>\n",
       "      <td>12.0</td>\n",
       "      <td>38</td>\n",
       "      <td>1</td>\n",
       "    </tr>\n",
       "    <tr>\n",
       "      <th>3</th>\n",
       "      <td>1.073973</td>\n",
       "      <td>3.0</td>\n",
       "      <td>6</td>\n",
       "      <td>1</td>\n",
       "    </tr>\n",
       "    <tr>\n",
       "      <th>4</th>\n",
       "      <td>3.854795</td>\n",
       "      <td>12.0</td>\n",
       "      <td>20</td>\n",
       "      <td>1</td>\n",
       "    </tr>\n",
       "    <tr>\n",
       "      <th>...</th>\n",
       "      <td>...</td>\n",
       "      <td>...</td>\n",
       "      <td>...</td>\n",
       "      <td>...</td>\n",
       "    </tr>\n",
       "    <tr>\n",
       "      <th>20171</th>\n",
       "      <td>NaN</td>\n",
       "      <td>12.0</td>\n",
       "      <td>0</td>\n",
       "      <td>0</td>\n",
       "    </tr>\n",
       "    <tr>\n",
       "      <th>20172</th>\n",
       "      <td>NaN</td>\n",
       "      <td>3.0</td>\n",
       "      <td>0</td>\n",
       "      <td>0</td>\n",
       "    </tr>\n",
       "    <tr>\n",
       "      <th>20173</th>\n",
       "      <td>4.805479</td>\n",
       "      <td>5.0</td>\n",
       "      <td>13</td>\n",
       "      <td>0</td>\n",
       "    </tr>\n",
       "    <tr>\n",
       "      <th>20174</th>\n",
       "      <td>6.589041</td>\n",
       "      <td>5.0</td>\n",
       "      <td>16</td>\n",
       "      <td>1</td>\n",
       "    </tr>\n",
       "    <tr>\n",
       "      <th>20175</th>\n",
       "      <td>6.534247</td>\n",
       "      <td>3.0</td>\n",
       "      <td>49</td>\n",
       "      <td>0</td>\n",
       "    </tr>\n",
       "  </tbody>\n",
       "</table>\n",
       "<p>20176 rows × 4 columns</p>\n",
       "</div>"
      ],
      "text/plain": [
       "            Age  Size  Days in Shelter  Outcome Type\n",
       "0      7.624658  24.0                3             0\n",
       "1      1.334247  12.0               49             1\n",
       "2      2.306849  12.0               38             1\n",
       "3      1.073973   3.0                6             1\n",
       "4      3.854795  12.0               20             1\n",
       "...         ...   ...              ...           ...\n",
       "20171       NaN  12.0                0             0\n",
       "20172       NaN   3.0                0             0\n",
       "20173  4.805479   5.0               13             0\n",
       "20174  6.589041   5.0               16             1\n",
       "20175  6.534247   3.0               49             0\n",
       "\n",
       "[20176 rows x 4 columns]"
      ]
     },
     "execution_count": 715,
     "metadata": {},
     "output_type": "execute_result"
    }
   ],
   "source": [
    "dfClean"
   ]
  },
  {
   "cell_type": "code",
   "execution_count": null,
   "id": "7e56f137",
   "metadata": {},
   "outputs": [],
   "source": []
  }
 ],
 "metadata": {
  "kernelspec": {
   "display_name": "Python 3",
   "language": "python",
   "name": "python3"
  },
  "language_info": {
   "codemirror_mode": {
    "name": "ipython",
    "version": 3
   },
   "file_extension": ".py",
   "mimetype": "text/x-python",
   "name": "python",
   "nbconvert_exporter": "python",
   "pygments_lexer": "ipython3",
   "version": "3.8.8"
  }
 },
 "nbformat": 4,
 "nbformat_minor": 5
}
